{
 "cells": [
  {
   "cell_type": "code",
   "execution_count": 1,
   "id": "4a93d0d3-b544-465d-bbb6-735b0f6ec94c",
   "metadata": {},
   "outputs": [],
   "source": [
    "def test(**kwargs):\n",
    "    print(kwargs.items())"
   ]
  },
  {
   "cell_type": "code",
   "execution_count": 2,
   "id": "40b42d94-edcc-41a5-8d7d-ed9dc97b7e48",
   "metadata": {},
   "outputs": [
    {
     "name": "stdout",
     "output_type": "stream",
     "text": [
      "dict_items([('vamshi', 'bewarse')])\n"
     ]
    }
   ],
   "source": [
    "test(vamshi ='bewarse')"
   ]
  },
  {
   "cell_type": "code",
   "execution_count": 3,
   "id": "cc1609db-c2cf-4cb5-bec0-9d9c506ac1a2",
   "metadata": {},
   "outputs": [],
   "source": [
    "def mail(name):\n",
    "    if type(name) == str:\n",
    "        return name, name+'@gmail.com'"
   ]
  },
  {
   "cell_type": "code",
   "execution_count": 4,
   "id": "533d46e1-3bb3-4bc9-b1ae-dca719b186ca",
   "metadata": {},
   "outputs": [
    {
     "data": {
      "text/plain": [
       "('vamshi', 'vamshi@gmail.com')"
      ]
     },
     "execution_count": 4,
     "metadata": {},
     "output_type": "execute_result"
    }
   ],
   "source": [
    "mail('vamshi')"
   ]
  },
  {
   "cell_type": "code",
   "execution_count": 5,
   "id": "47967e26-2927-43c5-aed9-b34825f7fc4d",
   "metadata": {},
   "outputs": [],
   "source": [
    "z = lambda x,y:x+y"
   ]
  },
  {
   "cell_type": "code",
   "execution_count": 6,
   "id": "c1572f16-0946-4566-84c3-6e24ada64059",
   "metadata": {},
   "outputs": [
    {
     "data": {
      "text/plain": [
       "'vamshi@gmail.com'"
      ]
     },
     "execution_count": 6,
     "metadata": {},
     "output_type": "execute_result"
    }
   ],
   "source": [
    "z('vamshi','@gmail.com')"
   ]
  },
  {
   "cell_type": "code",
   "execution_count": 7,
   "id": "93545a39-0bb1-4861-9fcd-9dc2fb09091c",
   "metadata": {},
   "outputs": [],
   "source": [
    "a = lambda x,y:x+y"
   ]
  },
  {
   "cell_type": "code",
   "execution_count": 8,
   "id": "aef2786c-1d15-49e8-abf2-be0173400473",
   "metadata": {},
   "outputs": [
    {
     "data": {
      "text/plain": [
       "11"
      ]
     },
     "execution_count": 8,
     "metadata": {},
     "output_type": "execute_result"
    }
   ],
   "source": [
    "a(5,6)"
   ]
  },
  {
   "cell_type": "code",
   "execution_count": 9,
   "id": "16284c4d-d5d7-4144-be64-bde3a55ae8cf",
   "metadata": {},
   "outputs": [],
   "source": [
    "def test(x,y):\n",
    "    a = 10\n",
    "    b = 20\n",
    "    return a+b"
   ]
  },
  {
   "cell_type": "code",
   "execution_count": 10,
   "id": "841e0381-cb82-45c6-b0a7-15ff0e5c4e24",
   "metadata": {},
   "outputs": [],
   "source": [
    "z = lambda x,y:x+y"
   ]
  },
  {
   "cell_type": "code",
   "execution_count": 11,
   "id": "efd3a3e1-a649-4eda-ac24-86d6450a6950",
   "metadata": {},
   "outputs": [
    {
     "data": {
      "text/plain": [
       "30"
      ]
     },
     "execution_count": 11,
     "metadata": {},
     "output_type": "execute_result"
    }
   ],
   "source": [
    "test(10,100)"
   ]
  },
  {
   "cell_type": "code",
   "execution_count": 12,
   "id": "b87e5f08-a06f-4410-9d18-7395ca680137",
   "metadata": {},
   "outputs": [],
   "source": [
    "s = lambda x:x*2"
   ]
  },
  {
   "cell_type": "code",
   "execution_count": 13,
   "id": "05abb228-2254-4498-93bd-5aacedbc4545",
   "metadata": {},
   "outputs": [
    {
     "data": {
      "text/plain": [
       "6"
      ]
     },
     "execution_count": 13,
     "metadata": {},
     "output_type": "execute_result"
    }
   ],
   "source": [
    "s(3)"
   ]
  },
  {
   "cell_type": "code",
   "execution_count": 14,
   "id": "32814f03-5ad7-4832-abf4-84c341172ffe",
   "metadata": {},
   "outputs": [],
   "source": [
    "a = [1,2,3]"
   ]
  },
  {
   "cell_type": "code",
   "execution_count": 15,
   "id": "512db84e-7a54-4bbc-bc12-446214e3e995",
   "metadata": {},
   "outputs": [
    {
     "data": {
      "text/plain": [
       "[1, 2, 3, 1, 2, 3]"
      ]
     },
     "execution_count": 15,
     "metadata": {},
     "output_type": "execute_result"
    }
   ],
   "source": [
    "s(a)"
   ]
  },
  {
   "cell_type": "code",
   "execution_count": 16,
   "id": "f62072f5-3af1-4534-b885-428fe0e24058",
   "metadata": {},
   "outputs": [],
   "source": [
    "r = 10\n",
    "def test3(a):\n",
    "    \"\"\"\n",
    "    This function will provide the \n",
    "    reciprocal value of the given number.\n",
    "    \"\"\"\n",
    "    if type(a) == int or type(a) == float:   \n",
    "        r = 1/a\n",
    "        return r"
   ]
  },
  {
   "cell_type": "code",
   "execution_count": 17,
   "id": "9bbfbe5f-9616-4a57-8c6c-655f15a67502",
   "metadata": {},
   "outputs": [
    {
     "data": {
      "text/plain": [
       "0.1"
      ]
     },
     "execution_count": 17,
     "metadata": {},
     "output_type": "execute_result"
    }
   ],
   "source": [
    "test3(10)"
   ]
  },
  {
   "cell_type": "code",
   "execution_count": 18,
   "id": "d80fce07-c043-4b97-8952-20583bfc20d0",
   "metadata": {},
   "outputs": [
    {
     "data": {
      "text/plain": [
       "<function __main__.test3(a)>"
      ]
     },
     "execution_count": 18,
     "metadata": {},
     "output_type": "execute_result"
    }
   ],
   "source": [
    "test3"
   ]
  },
  {
   "cell_type": "code",
   "execution_count": 19,
   "id": "61eb56b3-4250-486b-a41b-fa1608761351",
   "metadata": {},
   "outputs": [],
   "source": [
    "test3?"
   ]
  },
  {
   "cell_type": "code",
   "execution_count": 20,
   "id": "67285d74-207c-4766-9296-fb8566d526a9",
   "metadata": {},
   "outputs": [
    {
     "name": "stdout",
     "output_type": "stream",
     "text": [
      "Help on function test3 in module __main__:\n",
      "\n",
      "test3(a)\n",
      "    This function will provide the \n",
      "    reciprocal value of the given number.\n",
      "\n"
     ]
    }
   ],
   "source": [
    "help(test3)"
   ]
  },
  {
   "cell_type": "code",
   "execution_count": 21,
   "id": "7f22d667-b4c6-41f7-aced-3bbaf68a6644",
   "metadata": {},
   "outputs": [],
   "source": [
    "test3??"
   ]
  },
  {
   "cell_type": "markdown",
   "id": "72a236ae-a059-4b5d-9049-98cbfe758171",
   "metadata": {},
   "source": [
    "# Iterators and Generators"
   ]
  },
  {
   "cell_type": "code",
   "execution_count": 22,
   "id": "51910bf7-00d8-49c9-8aed-a922f6950ba1",
   "metadata": {},
   "outputs": [
    {
     "ename": "TypeError",
     "evalue": "'int' object is not iterable",
     "output_type": "error",
     "traceback": [
      "\u001b[1;31m---------------------------------------------------------------------------\u001b[0m",
      "\u001b[1;31mTypeError\u001b[0m                                 Traceback (most recent call last)",
      "\u001b[1;32m~\\AppData\\Local\\Temp/ipykernel_13324/1805748935.py\u001b[0m in \u001b[0;36m<module>\u001b[1;34m\u001b[0m\n\u001b[0;32m      1\u001b[0m \u001b[0ma\u001b[0m \u001b[1;33m=\u001b[0m \u001b[1;36m10\u001b[0m\u001b[1;33m\u001b[0m\u001b[1;33m\u001b[0m\u001b[0m\n\u001b[1;32m----> 2\u001b[1;33m \u001b[1;32mfor\u001b[0m \u001b[0mi\u001b[0m \u001b[1;32min\u001b[0m \u001b[0ma\u001b[0m\u001b[1;33m:\u001b[0m\u001b[1;33m\u001b[0m\u001b[1;33m\u001b[0m\u001b[0m\n\u001b[0m\u001b[0;32m      3\u001b[0m     \u001b[0mprint\u001b[0m\u001b[1;33m(\u001b[0m\u001b[0mi\u001b[0m\u001b[1;33m)\u001b[0m\u001b[1;33m\u001b[0m\u001b[1;33m\u001b[0m\u001b[0m\n",
      "\u001b[1;31mTypeError\u001b[0m: 'int' object is not iterable"
     ]
    }
   ],
   "source": [
    "a = 10\n",
    "for i in a:\n",
    "    print(i)"
   ]
  },
  {
   "cell_type": "code",
   "execution_count": null,
   "id": "da2ff43b-62b2-4dcb-aaee-48ff47940358",
   "metadata": {},
   "outputs": [],
   "source": [
    "a = 'sudh'\n",
    "i = 0\n",
    "while i < len(a):\n",
    "    print(a[i])\n",
    "    i += 1"
   ]
  },
  {
   "cell_type": "code",
   "execution_count": null,
   "id": "3dcb52a1-16e5-42f0-a384-aff03c6518d1",
   "metadata": {},
   "outputs": [],
   "source": [
    "a = 'sudh'\n",
    "next(a)"
   ]
  },
  {
   "cell_type": "markdown",
   "id": "b386aad2-c70f-4043-be28-d970b358c756",
   "metadata": {},
   "source": [
    "### Iterator"
   ]
  },
  {
   "cell_type": "markdown",
   "id": "b0ee186e-0d05-4926-a867-6405b4aa70c9",
   "metadata": {},
   "source": [
    "Iterator is a kind of an object or an entity, out of which I can able to extract a data with the help of indexes."
   ]
  },
  {
   "cell_type": "code",
   "execution_count": 23,
   "id": "18c5c991-3c25-4844-9223-a07f9385cb89",
   "metadata": {},
   "outputs": [
    {
     "data": {
      "text/plain": [
       "'s'"
      ]
     },
     "execution_count": 23,
     "metadata": {},
     "output_type": "execute_result"
    }
   ],
   "source": [
    "a = 'sudh'\n",
    "a = iter(a)\n",
    "next(a)"
   ]
  },
  {
   "cell_type": "code",
   "execution_count": 24,
   "id": "229f9f51-870d-4463-b791-175b1b305576",
   "metadata": {},
   "outputs": [
    {
     "ename": "TypeError",
     "evalue": "'int' object is not an iterator",
     "output_type": "error",
     "traceback": [
      "\u001b[1;31m---------------------------------------------------------------------------\u001b[0m",
      "\u001b[1;31mTypeError\u001b[0m                                 Traceback (most recent call last)",
      "\u001b[1;32m~\\AppData\\Local\\Temp/ipykernel_13324/2481819684.py\u001b[0m in \u001b[0;36m<module>\u001b[1;34m\u001b[0m\n\u001b[0;32m      1\u001b[0m \u001b[0mb\u001b[0m \u001b[1;33m=\u001b[0m \u001b[1;36m10\u001b[0m\u001b[1;33m\u001b[0m\u001b[1;33m\u001b[0m\u001b[0m\n\u001b[1;32m----> 2\u001b[1;33m \u001b[0mnext\u001b[0m\u001b[1;33m(\u001b[0m\u001b[0mb\u001b[0m\u001b[1;33m)\u001b[0m\u001b[1;33m\u001b[0m\u001b[1;33m\u001b[0m\u001b[0m\n\u001b[0m",
      "\u001b[1;31mTypeError\u001b[0m: 'int' object is not an iterator"
     ]
    }
   ],
   "source": [
    "b = 10\n",
    "next(b)"
   ]
  },
  {
   "cell_type": "code",
   "execution_count": 25,
   "id": "0d176d63-c829-4f4b-9409-254eacbe9d55",
   "metadata": {},
   "outputs": [
    {
     "ename": "TypeError",
     "evalue": "'int' object is not iterable",
     "output_type": "error",
     "traceback": [
      "\u001b[1;31m---------------------------------------------------------------------------\u001b[0m",
      "\u001b[1;31mTypeError\u001b[0m                                 Traceback (most recent call last)",
      "\u001b[1;32m~\\AppData\\Local\\Temp/ipykernel_13324/4216586481.py\u001b[0m in \u001b[0;36m<module>\u001b[1;34m\u001b[0m\n\u001b[0;32m      1\u001b[0m \u001b[0mb\u001b[0m \u001b[1;33m=\u001b[0m \u001b[1;36m10\u001b[0m\u001b[1;33m\u001b[0m\u001b[1;33m\u001b[0m\u001b[0m\n\u001b[1;32m----> 2\u001b[1;33m \u001b[0mb\u001b[0m \u001b[1;33m=\u001b[0m \u001b[0miter\u001b[0m\u001b[1;33m(\u001b[0m\u001b[1;36m10\u001b[0m\u001b[1;33m)\u001b[0m\u001b[1;33m\u001b[0m\u001b[1;33m\u001b[0m\u001b[0m\n\u001b[0m\u001b[0;32m      3\u001b[0m \u001b[0mnext\u001b[0m\u001b[1;33m(\u001b[0m\u001b[0mb\u001b[0m\u001b[1;33m)\u001b[0m\u001b[1;33m\u001b[0m\u001b[1;33m\u001b[0m\u001b[0m\n",
      "\u001b[1;31mTypeError\u001b[0m: 'int' object is not iterable"
     ]
    }
   ],
   "source": [
    "b = 10\n",
    "b = iter(10)\n",
    "next(b)"
   ]
  },
  {
   "cell_type": "code",
   "execution_count": 26,
   "id": "9e11cff5-b6e1-4816-a329-9f63b0d41702",
   "metadata": {},
   "outputs": [
    {
     "data": {
      "text/plain": [
       "'u'"
      ]
     },
     "execution_count": 26,
     "metadata": {},
     "output_type": "execute_result"
    }
   ],
   "source": [
    "next(a)"
   ]
  },
  {
   "cell_type": "code",
   "execution_count": 27,
   "id": "3f931b7e-6306-4a24-82df-dcaf24e4a49a",
   "metadata": {},
   "outputs": [
    {
     "name": "stdout",
     "output_type": "stream",
     "text": [
      "d\n"
     ]
    }
   ],
   "source": [
    "for i in next(a):\n",
    "    print(i)"
   ]
  },
  {
   "cell_type": "code",
   "execution_count": 28,
   "id": "ed0a8c01-5be9-4a8d-aa69-73f0bdcb1c1a",
   "metadata": {},
   "outputs": [
    {
     "data": {
      "text/plain": [
       "'h'"
      ]
     },
     "execution_count": 28,
     "metadata": {},
     "output_type": "execute_result"
    }
   ],
   "source": [
    "next(a)"
   ]
  },
  {
   "cell_type": "code",
   "execution_count": 29,
   "id": "5ad485d5-792f-41d9-8084-e6a743970b75",
   "metadata": {},
   "outputs": [
    {
     "ename": "StopIteration",
     "evalue": "",
     "output_type": "error",
     "traceback": [
      "\u001b[1;31m---------------------------------------------------------------------------\u001b[0m",
      "\u001b[1;31mStopIteration\u001b[0m                             Traceback (most recent call last)",
      "\u001b[1;32m~\\AppData\\Local\\Temp/ipykernel_13324/1242322984.py\u001b[0m in \u001b[0;36m<module>\u001b[1;34m\u001b[0m\n\u001b[1;32m----> 1\u001b[1;33m \u001b[0mnext\u001b[0m\u001b[1;33m(\u001b[0m\u001b[0ma\u001b[0m\u001b[1;33m)\u001b[0m\u001b[1;33m\u001b[0m\u001b[1;33m\u001b[0m\u001b[0m\n\u001b[0m",
      "\u001b[1;31mStopIteration\u001b[0m: "
     ]
    }
   ],
   "source": [
    "next(a)"
   ]
  },
  {
   "cell_type": "code",
   "execution_count": 30,
   "id": "c01a16bb-8c05-426b-b7d3-d2a3c0ecb876",
   "metadata": {},
   "outputs": [],
   "source": [
    "l = [1,2,3,4,5]"
   ]
  },
  {
   "cell_type": "code",
   "execution_count": 31,
   "id": "6c1b6538-6370-44c3-be9d-d91c74fbe8b5",
   "metadata": {},
   "outputs": [
    {
     "name": "stdout",
     "output_type": "stream",
     "text": [
      "1\n",
      "2\n",
      "3\n",
      "4\n",
      "5\n"
     ]
    }
   ],
   "source": [
    "for i in l:\n",
    "    print(i)"
   ]
  },
  {
   "cell_type": "code",
   "execution_count": 32,
   "id": "fef1c232-06b4-4028-ba29-06d54d2995a6",
   "metadata": {},
   "outputs": [
    {
     "ename": "TypeError",
     "evalue": "'list' object is not an iterator",
     "output_type": "error",
     "traceback": [
      "\u001b[1;31m---------------------------------------------------------------------------\u001b[0m",
      "\u001b[1;31mTypeError\u001b[0m                                 Traceback (most recent call last)",
      "\u001b[1;32m~\\AppData\\Local\\Temp/ipykernel_13324/2016234150.py\u001b[0m in \u001b[0;36m<module>\u001b[1;34m\u001b[0m\n\u001b[1;32m----> 1\u001b[1;33m \u001b[0mnext\u001b[0m\u001b[1;33m(\u001b[0m\u001b[0ml\u001b[0m\u001b[1;33m)\u001b[0m\u001b[1;33m\u001b[0m\u001b[1;33m\u001b[0m\u001b[0m\n\u001b[0m",
      "\u001b[1;31mTypeError\u001b[0m: 'list' object is not an iterator"
     ]
    }
   ],
   "source": [
    "next(l)"
   ]
  },
  {
   "cell_type": "code",
   "execution_count": 33,
   "id": "0f21f3f6-0967-4e11-947c-71af1f410680",
   "metadata": {},
   "outputs": [
    {
     "data": {
      "text/plain": [
       "[1, 2, 3, 4, 5]"
      ]
     },
     "execution_count": 33,
     "metadata": {},
     "output_type": "execute_result"
    }
   ],
   "source": [
    "l"
   ]
  },
  {
   "cell_type": "code",
   "execution_count": 34,
   "id": "ff4fff0c-f9ba-49b5-b84b-6c1aef6516dc",
   "metadata": {},
   "outputs": [
    {
     "data": {
      "text/plain": [
       "1"
      ]
     },
     "execution_count": 34,
     "metadata": {},
     "output_type": "execute_result"
    }
   ],
   "source": [
    "l = iter(l)\n",
    "next(l)"
   ]
  },
  {
   "cell_type": "code",
   "execution_count": 35,
   "id": "0eaf3203-29a2-44e6-8da9-a7a95061097d",
   "metadata": {},
   "outputs": [
    {
     "data": {
      "text/plain": [
       "2"
      ]
     },
     "execution_count": 35,
     "metadata": {},
     "output_type": "execute_result"
    }
   ],
   "source": [
    "next(l)"
   ]
  },
  {
   "cell_type": "code",
   "execution_count": 36,
   "id": "59df2ad0-fddd-42aa-a1e2-9e2e9b1e5b54",
   "metadata": {},
   "outputs": [
    {
     "ename": "TypeError",
     "evalue": "'int' object is not iterable",
     "output_type": "error",
     "traceback": [
      "\u001b[1;31m---------------------------------------------------------------------------\u001b[0m",
      "\u001b[1;31mTypeError\u001b[0m                                 Traceback (most recent call last)",
      "\u001b[1;32m~\\AppData\\Local\\Temp/ipykernel_13324/3043173352.py\u001b[0m in \u001b[0;36m<module>\u001b[1;34m\u001b[0m\n\u001b[0;32m      1\u001b[0m \u001b[0mv\u001b[0m \u001b[1;33m=\u001b[0m \u001b[1;36m143\u001b[0m\u001b[1;33m\u001b[0m\u001b[1;33m\u001b[0m\u001b[0m\n\u001b[1;32m----> 2\u001b[1;33m \u001b[0mv\u001b[0m \u001b[1;33m=\u001b[0m \u001b[0miter\u001b[0m\u001b[1;33m(\u001b[0m\u001b[0mv\u001b[0m\u001b[1;33m)\u001b[0m\u001b[1;33m\u001b[0m\u001b[1;33m\u001b[0m\u001b[0m\n\u001b[0m\u001b[0;32m      3\u001b[0m \u001b[0mnext\u001b[0m\u001b[1;33m(\u001b[0m\u001b[0mv\u001b[0m\u001b[1;33m)\u001b[0m\u001b[1;33m\u001b[0m\u001b[1;33m\u001b[0m\u001b[0m\n",
      "\u001b[1;31mTypeError\u001b[0m: 'int' object is not iterable"
     ]
    }
   ],
   "source": [
    "v = 143\n",
    "v = iter(v)\n",
    "next(v)"
   ]
  },
  {
   "cell_type": "code",
   "execution_count": 37,
   "id": "46a3b424-55c5-4963-a117-d0134302cddb",
   "metadata": {},
   "outputs": [],
   "source": [
    "d = {1:'vash',2:'abc'}"
   ]
  },
  {
   "cell_type": "code",
   "execution_count": 38,
   "id": "121245aa-b527-4b16-a537-575667ef9b91",
   "metadata": {},
   "outputs": [
    {
     "data": {
      "text/plain": [
       "{1: 'vash', 2: 'abc'}"
      ]
     },
     "execution_count": 38,
     "metadata": {},
     "output_type": "execute_result"
    }
   ],
   "source": [
    "d"
   ]
  },
  {
   "cell_type": "code",
   "execution_count": 39,
   "id": "53519752-e860-4f6e-8c68-02ba011f878a",
   "metadata": {},
   "outputs": [
    {
     "ename": "TypeError",
     "evalue": "'dict' object is not an iterator",
     "output_type": "error",
     "traceback": [
      "\u001b[1;31m---------------------------------------------------------------------------\u001b[0m",
      "\u001b[1;31mTypeError\u001b[0m                                 Traceback (most recent call last)",
      "\u001b[1;32m~\\AppData\\Local\\Temp/ipykernel_13324/3131910724.py\u001b[0m in \u001b[0;36m<module>\u001b[1;34m\u001b[0m\n\u001b[1;32m----> 1\u001b[1;33m \u001b[0mnext\u001b[0m\u001b[1;33m(\u001b[0m\u001b[0md\u001b[0m\u001b[1;33m)\u001b[0m\u001b[1;33m\u001b[0m\u001b[1;33m\u001b[0m\u001b[0m\n\u001b[0m",
      "\u001b[1;31mTypeError\u001b[0m: 'dict' object is not an iterator"
     ]
    }
   ],
   "source": [
    "next(d)"
   ]
  },
  {
   "cell_type": "code",
   "execution_count": 40,
   "id": "cf0004b4-163f-4c2c-b0df-1204dd2547de",
   "metadata": {},
   "outputs": [],
   "source": [
    "d = iter(d)\n"
   ]
  },
  {
   "cell_type": "code",
   "execution_count": 41,
   "id": "39548e09-d3dc-4964-9019-39188b7461d8",
   "metadata": {},
   "outputs": [
    {
     "data": {
      "text/plain": [
       "1"
      ]
     },
     "execution_count": 41,
     "metadata": {},
     "output_type": "execute_result"
    }
   ],
   "source": [
    "next(d)"
   ]
  },
  {
   "cell_type": "code",
   "execution_count": 42,
   "id": "e6871841-72f0-419b-91ff-e824b980392a",
   "metadata": {},
   "outputs": [
    {
     "data": {
      "text/plain": [
       "2"
      ]
     },
     "execution_count": 42,
     "metadata": {},
     "output_type": "execute_result"
    }
   ],
   "source": [
    "next(d)"
   ]
  },
  {
   "cell_type": "code",
   "execution_count": 43,
   "id": "7a3bf5a7-3274-4706-8371-f51b97c35d7c",
   "metadata": {},
   "outputs": [
    {
     "ename": "StopIteration",
     "evalue": "",
     "output_type": "error",
     "traceback": [
      "\u001b[1;31m---------------------------------------------------------------------------\u001b[0m",
      "\u001b[1;31mStopIteration\u001b[0m                             Traceback (most recent call last)",
      "\u001b[1;32m~\\AppData\\Local\\Temp/ipykernel_13324/3131910724.py\u001b[0m in \u001b[0;36m<module>\u001b[1;34m\u001b[0m\n\u001b[1;32m----> 1\u001b[1;33m \u001b[0mnext\u001b[0m\u001b[1;33m(\u001b[0m\u001b[0md\u001b[0m\u001b[1;33m)\u001b[0m\u001b[1;33m\u001b[0m\u001b[1;33m\u001b[0m\u001b[0m\n\u001b[0m",
      "\u001b[1;31mStopIteration\u001b[0m: "
     ]
    }
   ],
   "source": [
    "next(d)"
   ]
  },
  {
   "cell_type": "code",
   "execution_count": 44,
   "id": "2f0dd276-1461-43b0-9675-9a8f570b40ec",
   "metadata": {},
   "outputs": [
    {
     "ename": "StopIteration",
     "evalue": "",
     "output_type": "error",
     "traceback": [
      "\u001b[1;31m---------------------------------------------------------------------------\u001b[0m",
      "\u001b[1;31mStopIteration\u001b[0m                             Traceback (most recent call last)",
      "\u001b[1;32m~\\AppData\\Local\\Temp/ipykernel_13324/3131910724.py\u001b[0m in \u001b[0;36m<module>\u001b[1;34m\u001b[0m\n\u001b[1;32m----> 1\u001b[1;33m \u001b[0mnext\u001b[0m\u001b[1;33m(\u001b[0m\u001b[0md\u001b[0m\u001b[1;33m)\u001b[0m\u001b[1;33m\u001b[0m\u001b[1;33m\u001b[0m\u001b[0m\n\u001b[0m",
      "\u001b[1;31mStopIteration\u001b[0m: "
     ]
    }
   ],
   "source": [
    "next(d)"
   ]
  },
  {
   "cell_type": "code",
   "execution_count": 45,
   "id": "57711814-069e-4f05-b4a4-4ba74350ff45",
   "metadata": {},
   "outputs": [
    {
     "ename": "AttributeError",
     "evalue": "'dict_keyiterator' object has no attribute 'keys'",
     "output_type": "error",
     "traceback": [
      "\u001b[1;31m---------------------------------------------------------------------------\u001b[0m",
      "\u001b[1;31mAttributeError\u001b[0m                            Traceback (most recent call last)",
      "\u001b[1;32m~\\AppData\\Local\\Temp/ipykernel_13324/1609036338.py\u001b[0m in \u001b[0;36m<module>\u001b[1;34m\u001b[0m\n\u001b[1;32m----> 1\u001b[1;33m \u001b[0mnext\u001b[0m\u001b[1;33m(\u001b[0m\u001b[0md\u001b[0m\u001b[1;33m.\u001b[0m\u001b[0mkeys\u001b[0m\u001b[1;33m)\u001b[0m\u001b[1;33m\u001b[0m\u001b[1;33m\u001b[0m\u001b[0m\n\u001b[0m",
      "\u001b[1;31mAttributeError\u001b[0m: 'dict_keyiterator' object has no attribute 'keys'"
     ]
    }
   ],
   "source": [
    "next(d.keys)"
   ]
  },
  {
   "cell_type": "code",
   "execution_count": 46,
   "id": "5f5429d9-1c3a-4832-835c-f09760d6b51e",
   "metadata": {},
   "outputs": [
    {
     "ename": "AttributeError",
     "evalue": "'dict_keyiterator' object has no attribute 'keys'",
     "output_type": "error",
     "traceback": [
      "\u001b[1;31m---------------------------------------------------------------------------\u001b[0m",
      "\u001b[1;31mAttributeError\u001b[0m                            Traceback (most recent call last)",
      "\u001b[1;32m~\\AppData\\Local\\Temp/ipykernel_13324/3434616199.py\u001b[0m in \u001b[0;36m<module>\u001b[1;34m\u001b[0m\n\u001b[1;32m----> 1\u001b[1;33m \u001b[0md\u001b[0m\u001b[1;33m.\u001b[0m\u001b[0mkeys\u001b[0m\u001b[1;33m(\u001b[0m\u001b[1;33m)\u001b[0m\u001b[1;33m\u001b[0m\u001b[1;33m\u001b[0m\u001b[0m\n\u001b[0m",
      "\u001b[1;31mAttributeError\u001b[0m: 'dict_keyiterator' object has no attribute 'keys'"
     ]
    }
   ],
   "source": [
    "d.keys()"
   ]
  },
  {
   "cell_type": "code",
   "execution_count": 47,
   "id": "8de1565f-a08f-4836-9495-7fb2e821b97c",
   "metadata": {},
   "outputs": [],
   "source": [
    "e = {4:'vas'}"
   ]
  },
  {
   "cell_type": "code",
   "execution_count": 48,
   "id": "3b8c8f12-aded-44d2-bda5-136ed3d5b9db",
   "metadata": {},
   "outputs": [
    {
     "data": {
      "text/plain": [
       "dict_keys([4])"
      ]
     },
     "execution_count": 48,
     "metadata": {},
     "output_type": "execute_result"
    }
   ],
   "source": [
    "e.keys()"
   ]
  },
  {
   "cell_type": "code",
   "execution_count": 49,
   "id": "ea89c298-6981-4d53-bb68-54dce65e4da3",
   "metadata": {},
   "outputs": [
    {
     "data": {
      "text/plain": [
       "dict_items([(4, 'vas')])"
      ]
     },
     "execution_count": 49,
     "metadata": {},
     "output_type": "execute_result"
    }
   ],
   "source": [
    "e.items()"
   ]
  },
  {
   "cell_type": "code",
   "execution_count": 50,
   "id": "fd4335b0-ab3a-4532-bfc5-6024caaf8065",
   "metadata": {},
   "outputs": [],
   "source": [
    "s = {1,2,3,3,5}"
   ]
  },
  {
   "cell_type": "code",
   "execution_count": 51,
   "id": "13d427c5",
   "metadata": {},
   "outputs": [
    {
     "data": {
      "text/plain": [
       "{1, 2, 3, 5}"
      ]
     },
     "execution_count": 51,
     "metadata": {},
     "output_type": "execute_result"
    }
   ],
   "source": [
    "s"
   ]
  },
  {
   "cell_type": "code",
   "execution_count": 52,
   "id": "b2e4e0dc",
   "metadata": {},
   "outputs": [
    {
     "ename": "TypeError",
     "evalue": "'set' object is not an iterator",
     "output_type": "error",
     "traceback": [
      "\u001b[1;31m---------------------------------------------------------------------------\u001b[0m",
      "\u001b[1;31mTypeError\u001b[0m                                 Traceback (most recent call last)",
      "\u001b[1;32m~\\AppData\\Local\\Temp/ipykernel_13324/1977886155.py\u001b[0m in \u001b[0;36m<module>\u001b[1;34m\u001b[0m\n\u001b[1;32m----> 1\u001b[1;33m \u001b[0mnext\u001b[0m\u001b[1;33m(\u001b[0m\u001b[0ms\u001b[0m\u001b[1;33m)\u001b[0m\u001b[1;33m\u001b[0m\u001b[1;33m\u001b[0m\u001b[0m\n\u001b[0m",
      "\u001b[1;31mTypeError\u001b[0m: 'set' object is not an iterator"
     ]
    }
   ],
   "source": [
    "next(s)"
   ]
  },
  {
   "cell_type": "code",
   "execution_count": 53,
   "id": "b369b29f",
   "metadata": {},
   "outputs": [],
   "source": [
    "s = iter(s)"
   ]
  },
  {
   "cell_type": "code",
   "execution_count": 54,
   "id": "7083925d",
   "metadata": {},
   "outputs": [
    {
     "data": {
      "text/plain": [
       "1"
      ]
     },
     "execution_count": 54,
     "metadata": {},
     "output_type": "execute_result"
    }
   ],
   "source": [
    "next(s)"
   ]
  },
  {
   "cell_type": "code",
   "execution_count": 55,
   "id": "1ed670c3",
   "metadata": {},
   "outputs": [
    {
     "data": {
      "text/plain": [
       "2"
      ]
     },
     "execution_count": 55,
     "metadata": {},
     "output_type": "execute_result"
    }
   ],
   "source": [
    "next(s)"
   ]
  },
  {
   "cell_type": "markdown",
   "id": "f23ae017",
   "metadata": {},
   "source": [
    "# Generator"
   ]
  },
  {
   "cell_type": "code",
   "execution_count": 56,
   "id": "27e465f0",
   "metadata": {},
   "outputs": [],
   "source": [
    "def test4(n):\n",
    "    l = []\n",
    "    c = []\n",
    "    for i in range(n):\n",
    "        l.append(i)\n",
    "        c.append(i**3)\n",
    "    \n",
    "    return l,c"
   ]
  },
  {
   "cell_type": "code",
   "execution_count": 57,
   "id": "74553871",
   "metadata": {},
   "outputs": [
    {
     "data": {
      "text/plain": [
       "([0, 1, 2, 3, 4, 5], [0, 1, 8, 27, 64, 125])"
      ]
     },
     "execution_count": 57,
     "metadata": {},
     "output_type": "execute_result"
    }
   ],
   "source": [
    "test4(6)"
   ]
  },
  {
   "cell_type": "code",
   "execution_count": 58,
   "id": "863c885f",
   "metadata": {},
   "outputs": [],
   "source": [
    "def test5(n):\n",
    "    for i in range(n):\n",
    "        yield i**3"
   ]
  },
  {
   "cell_type": "code",
   "execution_count": 59,
   "id": "57ff2e24",
   "metadata": {},
   "outputs": [
    {
     "data": {
      "text/plain": [
       "<generator object test5 at 0x0000027053B43C80>"
      ]
     },
     "execution_count": 59,
     "metadata": {},
     "output_type": "execute_result"
    }
   ],
   "source": [
    "test5(6)"
   ]
  },
  {
   "cell_type": "code",
   "execution_count": 60,
   "id": "66bff97b",
   "metadata": {},
   "outputs": [
    {
     "data": {
      "text/plain": [
       "[0, 1, 8, 27, 64, 125]"
      ]
     },
     "execution_count": 60,
     "metadata": {},
     "output_type": "execute_result"
    }
   ],
   "source": [
    "list(test5(6))"
   ]
  },
  {
   "cell_type": "markdown",
   "id": "4896903e",
   "metadata": {},
   "source": [
    "### Fibonacci "
   ]
  },
  {
   "cell_type": "code",
   "execution_count": 61,
   "id": "cc0fbd9e",
   "metadata": {},
   "outputs": [],
   "source": [
    "def getfib(n):\n",
    "    a = 1\n",
    "    b = 1\n",
    "    output = []\n",
    "    for i in range(n):\n",
    "        output.append(a)\n",
    "        a,b  =  b,a+b\n",
    "    return output"
   ]
  },
  {
   "cell_type": "code",
   "execution_count": 62,
   "id": "da0801a0",
   "metadata": {},
   "outputs": [
    {
     "data": {
      "text/plain": [
       "[1, 1, 2, 3, 5, 8]"
      ]
     },
     "execution_count": 62,
     "metadata": {},
     "output_type": "execute_result"
    }
   ],
   "source": [
    "getfib(6)"
   ]
  },
  {
   "cell_type": "code",
   "execution_count": 63,
   "id": "94f3cc81",
   "metadata": {},
   "outputs": [
    {
     "data": {
      "text/plain": [
       "[1, 1, 2, 3, 5, 8, 13, 21, 34, 55]"
      ]
     },
     "execution_count": 63,
     "metadata": {},
     "output_type": "execute_result"
    }
   ],
   "source": [
    "getfib(10)"
   ]
  },
  {
   "cell_type": "code",
   "execution_count": 64,
   "id": "2a98d186",
   "metadata": {},
   "outputs": [],
   "source": [
    "def getfib(n):\n",
    "    a = 1\n",
    "    b = 1\n",
    "    for i in range(n):\n",
    "        yield a\n",
    "        a,b = b, a+b"
   ]
  },
  {
   "cell_type": "code",
   "execution_count": 65,
   "id": "d7b80b77",
   "metadata": {},
   "outputs": [
    {
     "data": {
      "text/plain": [
       "<generator object getfib at 0x0000027053B47200>"
      ]
     },
     "execution_count": 65,
     "metadata": {},
     "output_type": "execute_result"
    }
   ],
   "source": [
    "getfib(6)"
   ]
  },
  {
   "cell_type": "code",
   "execution_count": 66,
   "id": "340c7521",
   "metadata": {},
   "outputs": [
    {
     "data": {
      "text/plain": [
       "[1, 1, 2, 3, 5, 8]"
      ]
     },
     "execution_count": 66,
     "metadata": {},
     "output_type": "execute_result"
    }
   ],
   "source": [
    "list(getfib(6))"
   ]
  },
  {
   "cell_type": "code",
   "execution_count": 67,
   "id": "9a0e57ec",
   "metadata": {},
   "outputs": [
    {
     "name": "stdout",
     "output_type": "stream",
     "text": [
      "1\n",
      "1\n",
      "2\n",
      "3\n",
      "5\n",
      "8\n",
      "13\n",
      "21\n",
      "34\n",
      "55\n",
      "89\n",
      "144\n",
      "233\n",
      "377\n",
      "610\n",
      "987\n",
      "1597\n",
      "2584\n",
      "4181\n",
      "6765\n",
      "10946\n",
      "17711\n",
      "28657\n",
      "46368\n",
      "75025\n",
      "121393\n",
      "196418\n",
      "317811\n",
      "514229\n",
      "832040\n",
      "1346269\n",
      "2178309\n",
      "3524578\n",
      "5702887\n",
      "9227465\n",
      "14930352\n",
      "24157817\n",
      "39088169\n",
      "63245986\n",
      "102334155\n",
      "165580141\n",
      "267914296\n",
      "433494437\n",
      "701408733\n",
      "1134903170\n",
      "1836311903\n",
      "2971215073\n",
      "4807526976\n",
      "7778742049\n",
      "12586269025\n",
      "20365011074\n",
      "32951280099\n",
      "53316291173\n",
      "86267571272\n",
      "139583862445\n",
      "225851433717\n",
      "365435296162\n",
      "591286729879\n",
      "956722026041\n",
      "1548008755920\n"
     ]
    }
   ],
   "source": [
    "for i in getfib(60):\n",
    "    print(i)"
   ]
  },
  {
   "cell_type": "code",
   "execution_count": 68,
   "id": "af662c61",
   "metadata": {},
   "outputs": [],
   "source": [
    "f = open('vamshi.txt','w')"
   ]
  },
  {
   "cell_type": "code",
   "execution_count": 69,
   "id": "cea01f87",
   "metadata": {},
   "outputs": [
    {
     "data": {
      "text/plain": [
       "34"
      ]
     },
     "execution_count": 69,
     "metadata": {},
     "output_type": "execute_result"
    }
   ],
   "source": [
    "f.write(r'a;slfja;lfaasfsweqo;oqrjewqorehjot')"
   ]
  },
  {
   "cell_type": "code",
   "execution_count": 70,
   "id": "665e6e52",
   "metadata": {},
   "outputs": [],
   "source": [
    "f.close()"
   ]
  },
  {
   "cell_type": "code",
   "execution_count": 71,
   "id": "13356572",
   "metadata": {},
   "outputs": [],
   "source": [
    "f = open('vamshi.txt')"
   ]
  },
  {
   "cell_type": "code",
   "execution_count": 72,
   "id": "11640455",
   "metadata": {},
   "outputs": [
    {
     "data": {
      "text/plain": [
       "'a;slfja;lfaasfsweqo;oqrjewqorehjot'"
      ]
     },
     "execution_count": 72,
     "metadata": {},
     "output_type": "execute_result"
    }
   ],
   "source": [
    "f.read()"
   ]
  },
  {
   "cell_type": "code",
   "execution_count": 73,
   "id": "ff02df7b",
   "metadata": {},
   "outputs": [
    {
     "data": {
      "text/plain": [
       "''"
      ]
     },
     "execution_count": 73,
     "metadata": {},
     "output_type": "execute_result"
    }
   ],
   "source": [
    "f.read()"
   ]
  },
  {
   "cell_type": "code",
   "execution_count": 74,
   "id": "7915d71a",
   "metadata": {},
   "outputs": [
    {
     "data": {
      "text/plain": [
       "12"
      ]
     },
     "execution_count": 74,
     "metadata": {},
     "output_type": "execute_result"
    }
   ],
   "source": [
    "f.seek(12)"
   ]
  },
  {
   "cell_type": "code",
   "execution_count": 75,
   "id": "b43c4ae1",
   "metadata": {},
   "outputs": [
    {
     "data": {
      "text/plain": [
       "'sfsweqo;oqrjewqorehjot'"
      ]
     },
     "execution_count": 75,
     "metadata": {},
     "output_type": "execute_result"
    }
   ],
   "source": [
    "f.read()"
   ]
  },
  {
   "cell_type": "code",
   "execution_count": 76,
   "id": "6c0c0cad",
   "metadata": {},
   "outputs": [],
   "source": [
    "f = open('vamshi.txt','r')"
   ]
  },
  {
   "cell_type": "code",
   "execution_count": 77,
   "id": "94241a40",
   "metadata": {},
   "outputs": [
    {
     "ename": "UnsupportedOperation",
     "evalue": "not writable",
     "output_type": "error",
     "traceback": [
      "\u001b[1;31m---------------------------------------------------------------------------\u001b[0m",
      "\u001b[1;31mUnsupportedOperation\u001b[0m                      Traceback (most recent call last)",
      "\u001b[1;32m~\\AppData\\Local\\Temp/ipykernel_13324/592477105.py\u001b[0m in \u001b[0;36m<module>\u001b[1;34m\u001b[0m\n\u001b[1;32m----> 1\u001b[1;33m \u001b[0mf\u001b[0m\u001b[1;33m.\u001b[0m\u001b[0mwrite\u001b[0m\u001b[1;33m(\u001b[0m\u001b[1;34m'aslfjals'\u001b[0m\u001b[1;33m)\u001b[0m\u001b[1;33m\u001b[0m\u001b[1;33m\u001b[0m\u001b[0m\n\u001b[0m",
      "\u001b[1;31mUnsupportedOperation\u001b[0m: not writable"
     ]
    }
   ],
   "source": [
    "f.write('aslfjals')"
   ]
  },
  {
   "cell_type": "markdown",
   "id": "a399e408",
   "metadata": {},
   "source": [
    "# Challenge"
   ]
  },
  {
   "cell_type": "code",
   "execution_count": 132,
   "id": "b51403ca",
   "metadata": {},
   "outputs": [
    {
     "name": "stdout",
     "output_type": "stream",
     "text": [
      "This is a text file\n",
      "This is a text file\n",
      "This is a text file\n",
      "This is a text file\n",
      "This is a text file\n",
      "This is a text file\n",
      "This is a text file\n",
      "This is a text file\n",
      "This is a text file\n",
      "This is a text file\n",
      "['This is a text file', 'This is a text file', 'This is a text file', 'This is a text file', 'This is a text file', 'This is a text file', 'This is a text file', 'This is a text file', 'This is a text file', 'This is a text file']\n"
     ]
    }
   ],
   "source": [
    "# Que 1: Create a new directory\n",
    "\n",
    "import os\n",
    "import shutil\n",
    "\n",
    "if not os.path.isdir('Vamshi'):\n",
    "    os.mkdir('Vamshi')\n",
    "else:\n",
    "    pass\n",
    "    \n",
    "#------------------------------------------------#\n",
    "\n",
    "# Que 2: Create 10 txt file and write some data into file at same time.\n",
    "\n",
    "os.chdir(os.getcwd()+'\\Vamshi')\n",
    "for i in range(1,11):\n",
    "    filename = 'test'+str(i)+'.txt'\n",
    "    f = open(filename, 'w')\n",
    "    f.write('This is a text file')\n",
    "    f.close()\n",
    "    \n",
    "    \n",
    "#------------------------------------------------------#\n",
    "\n",
    "# Que 3: Read all the data from this dir and print in console.\n",
    "for i in range(1,11):\n",
    "    filename = 'test' + str(i)+'.txt'\n",
    "    f = open(filename,'r')\n",
    "    data = f.read()\n",
    "    f.close()\n",
    "    print(data)\n",
    "\n",
    "\n",
    "# Que 4: Hold all the data in list.\n",
    "l = []\n",
    "for i in range(1,11):\n",
    "    filename = 'test'+str(i)+'.txt'\n",
    "    f = open(filename, 'r')\n",
    "    l.append(f.read())\n",
    "    f.close()\n",
    "    \n",
    "print(l)\n",
    "\n",
    "# Que 5: Write all the data in new file from list.\n",
    "f = open('newfile.txt','w')\n",
    "for i in l:\n",
    "    f.write(i)\n",
    "f.close()\n",
    "\n",
    "# Que 6: Keeping only new file in present directory and move rest \n",
    "#        in new directory.\n",
    "\n",
    "\n",
    "\n",
    "\n",
    "\n",
    "\n",
    "\n",
    "\n",
    "\n",
    "\n",
    "\n",
    "\n",
    "\n",
    "\n",
    "\n",
    "\n",
    "\n"
   ]
  },
  {
   "cell_type": "code",
   "execution_count": null,
   "id": "43e4c150",
   "metadata": {},
   "outputs": [],
   "source": []
  },
  {
   "cell_type": "code",
   "execution_count": null,
   "id": "ccb477e5",
   "metadata": {},
   "outputs": [],
   "source": []
  },
  {
   "cell_type": "code",
   "execution_count": null,
   "id": "c5ba87c8",
   "metadata": {},
   "outputs": [],
   "source": []
  },
  {
   "cell_type": "code",
   "execution_count": null,
   "id": "1962d7a7",
   "metadata": {},
   "outputs": [],
   "source": []
  },
  {
   "cell_type": "code",
   "execution_count": null,
   "id": "fd829bc5",
   "metadata": {},
   "outputs": [],
   "source": []
  },
  {
   "cell_type": "code",
   "execution_count": null,
   "id": "360c4a8f",
   "metadata": {},
   "outputs": [],
   "source": []
  },
  {
   "cell_type": "code",
   "execution_count": null,
   "id": "b326db4a",
   "metadata": {},
   "outputs": [],
   "source": []
  },
  {
   "cell_type": "code",
   "execution_count": null,
   "id": "8a80cd76",
   "metadata": {},
   "outputs": [],
   "source": []
  },
  {
   "cell_type": "code",
   "execution_count": null,
   "id": "0d16ce62",
   "metadata": {},
   "outputs": [],
   "source": []
  },
  {
   "cell_type": "code",
   "execution_count": null,
   "id": "706b6f7a",
   "metadata": {},
   "outputs": [],
   "source": []
  },
  {
   "cell_type": "code",
   "execution_count": null,
   "id": "b980395e",
   "metadata": {},
   "outputs": [],
   "source": []
  },
  {
   "cell_type": "code",
   "execution_count": null,
   "id": "9de20876",
   "metadata": {},
   "outputs": [],
   "source": []
  },
  {
   "cell_type": "code",
   "execution_count": null,
   "id": "55bd3fab",
   "metadata": {},
   "outputs": [],
   "source": []
  }
 ],
 "metadata": {
  "kernelspec": {
   "display_name": "Python 3 (ipykernel)",
   "language": "python",
   "name": "python3"
  },
  "language_info": {
   "codemirror_mode": {
    "name": "ipython",
    "version": 3
   },
   "file_extension": ".py",
   "mimetype": "text/x-python",
   "name": "python",
   "nbconvert_exporter": "python",
   "pygments_lexer": "ipython3",
   "version": "3.9.7"
  }
 },
 "nbformat": 4,
 "nbformat_minor": 5
}
