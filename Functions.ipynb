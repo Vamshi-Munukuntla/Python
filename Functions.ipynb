{
 "cells": [
  {
   "cell_type": "markdown",
   "id": "92425e4e",
   "metadata": {},
   "source": [
    "# Functions"
   ]
  },
  {
   "cell_type": "markdown",
   "id": "6454b9a0",
   "metadata": {},
   "source": [
    "Functions has 2 philosophies"
   ]
  },
  {
   "cell_type": "markdown",
   "id": "1eb58fe0",
   "metadata": {},
   "source": [
    "1. Abstraction\n",
    "\n",
    "\n",
    "2. Decomposition"
   ]
  },
  {
   "cell_type": "markdown",
   "id": "6eaa5c63",
   "metadata": {},
   "source": [
    "## Components of a Function"
   ]
  },
  {
   "cell_type": "markdown",
   "id": "8707054f",
   "metadata": {},
   "source": [
    "def is_even (i):\n",
    "\n",
    "    \"\"\"\n",
    "    Doc-String\n",
    "    \"\"\"\n",
    "    Body of the function\n",
    "    \n",
    "    return i\n",
    "\n",
    "is_even(9)    # Calling the function "
   ]
  },
  {
   "cell_type": "code",
   "execution_count": 24,
   "id": "75c8d734",
   "metadata": {},
   "outputs": [],
   "source": [
    "def is_even(number):\n",
    "    \"\"\"\n",
    "    This function tells if a given number is odd or even.\n",
    "    Input - Any valid integer\n",
    "    Output - Odd/Even\n",
    "    \n",
    "    Created By - Vamshi Munukuntla\n",
    "    Last Edited - 25/May/2022\n",
    "    \n",
    "    \"\"\"\n",
    "    if type(number) == int:\n",
    "        if number%2 == 0:\n",
    "            return 'Even'\n",
    "        else:\n",
    "            return 'Odd' \n",
    "    else:\n",
    "        return 'Please Enter a Valid Integer Value'\n",
    "    \n"
   ]
  },
  {
   "cell_type": "code",
   "execution_count": 25,
   "id": "e4d3a88a",
   "metadata": {},
   "outputs": [
    {
     "data": {
      "text/plain": [
       "'Even'"
      ]
     },
     "execution_count": 25,
     "metadata": {},
     "output_type": "execute_result"
    }
   ],
   "source": [
    "is_even(8)"
   ]
  },
  {
   "cell_type": "code",
   "execution_count": 26,
   "id": "f0f088f3",
   "metadata": {},
   "outputs": [
    {
     "name": "stdout",
     "output_type": "stream",
     "text": [
      "1 Odd\n",
      "2 Even\n",
      "3 Odd\n",
      "4 Even\n",
      "5 Odd\n",
      "6 Even\n",
      "7 Odd\n",
      "8 Even\n",
      "9 Odd\n",
      "10 Even\n",
      "\n",
      "    This function tells if a given number is odd or even.\n",
      "    Input - Any valid integer\n",
      "    Output - Odd/Even\n",
      "    \n",
      "    Created By - Vamshi Munukuntla\n",
      "    Last Edited - 25/May/2022\n",
      "    \n",
      "    \n"
     ]
    }
   ],
   "source": [
    "for i in range(1,11):\n",
    "    a = is_even(i)\n",
    "    print(i, a)\n",
    "    \n",
    "print(is_even.__doc__)"
   ]
  },
  {
   "cell_type": "code",
   "execution_count": 27,
   "id": "b9665c69",
   "metadata": {},
   "outputs": [
    {
     "name": "stdout",
     "output_type": "stream",
     "text": [
      "print(value, ..., sep=' ', end='\\n', file=sys.stdout, flush=False)\n",
      "\n",
      "Prints the values to a stream, or to sys.stdout by default.\n",
      "Optional keyword arguments:\n",
      "file:  a file-like object (stream); defaults to the current sys.stdout.\n",
      "sep:   string inserted between values, default a space.\n",
      "end:   string appended after the last value, default a newline.\n",
      "flush: whether to forcibly flush the stream.\n"
     ]
    }
   ],
   "source": [
    "print(print.__doc__)"
   ]
  },
  {
   "cell_type": "code",
   "execution_count": 28,
   "id": "73fcbd5f",
   "metadata": {},
   "outputs": [
    {
     "name": "stdout",
     "output_type": "stream",
     "text": [
      "type(object_or_name, bases, dict)\n",
      "type(object) -> the object's type\n",
      "type(name, bases, dict) -> a new type\n"
     ]
    }
   ],
   "source": [
    "print(type.__doc__)"
   ]
  },
  {
   "cell_type": "code",
   "execution_count": 29,
   "id": "8855951b",
   "metadata": {},
   "outputs": [
    {
     "data": {
      "text/plain": [
       "'Please Enter a Valid Integer Value'"
      ]
     },
     "execution_count": 29,
     "metadata": {},
     "output_type": "execute_result"
    }
   ],
   "source": [
    "is_even('Hello')"
   ]
  },
  {
   "cell_type": "markdown",
   "id": "d7957ea3",
   "metadata": {},
   "source": [
    "## Parameters Vs Arguments"
   ]
  },
  {
   "cell_type": "markdown",
   "id": "16afd73a",
   "metadata": {},
   "source": [
    "1. Default Arguments\n",
    "2. Positional Arguments\n",
    "3. Keyword Arguments\n",
    "4. Arbitrary Arguments"
   ]
  },
  {
   "cell_type": "code",
   "execution_count": null,
   "id": "1ae33e11",
   "metadata": {},
   "outputs": [],
   "source": []
  },
  {
   "cell_type": "code",
   "execution_count": 30,
   "id": "2137aa44",
   "metadata": {},
   "outputs": [],
   "source": [
    "def power(a,b):\n",
    "    return a**b"
   ]
  },
  {
   "cell_type": "code",
   "execution_count": 31,
   "id": "72bfcbcc",
   "metadata": {},
   "outputs": [
    {
     "data": {
      "text/plain": [
       "8"
      ]
     },
     "execution_count": 31,
     "metadata": {},
     "output_type": "execute_result"
    }
   ],
   "source": [
    "power(2,3)"
   ]
  },
  {
   "cell_type": "code",
   "execution_count": 32,
   "id": "07d1c4ca",
   "metadata": {},
   "outputs": [
    {
     "data": {
      "text/plain": [
       "9"
      ]
     },
     "execution_count": 32,
     "metadata": {},
     "output_type": "execute_result"
    }
   ],
   "source": [
    "power(3,2)"
   ]
  },
  {
   "cell_type": "code",
   "execution_count": 33,
   "id": "c1c233f7",
   "metadata": {},
   "outputs": [
    {
     "data": {
      "text/plain": [
       "16"
      ]
     },
     "execution_count": 33,
     "metadata": {},
     "output_type": "execute_result"
    }
   ],
   "source": [
    "power(4,2)"
   ]
  },
  {
   "cell_type": "code",
   "execution_count": 34,
   "id": "1a2acb10",
   "metadata": {},
   "outputs": [
    {
     "ename": "TypeError",
     "evalue": "power() missing 1 required positional argument: 'b'",
     "output_type": "error",
     "traceback": [
      "\u001b[1;31m---------------------------------------------------------------------------\u001b[0m",
      "\u001b[1;31mTypeError\u001b[0m                                 Traceback (most recent call last)",
      "\u001b[1;32m~\\AppData\\Local\\Temp/ipykernel_16896/1682845202.py\u001b[0m in \u001b[0;36m<module>\u001b[1;34m\u001b[0m\n\u001b[1;32m----> 1\u001b[1;33m \u001b[0mpower\u001b[0m\u001b[1;33m(\u001b[0m\u001b[1;36m4\u001b[0m\u001b[1;33m)\u001b[0m\u001b[1;33m\u001b[0m\u001b[1;33m\u001b[0m\u001b[0m\n\u001b[0m",
      "\u001b[1;31mTypeError\u001b[0m: power() missing 1 required positional argument: 'b'"
     ]
    }
   ],
   "source": [
    "power(4)"
   ]
  },
  {
   "cell_type": "code",
   "execution_count": 37,
   "id": "3f3c0db7",
   "metadata": {},
   "outputs": [
    {
     "ename": "TypeError",
     "evalue": "power() missing 2 required positional arguments: 'a' and 'b'",
     "output_type": "error",
     "traceback": [
      "\u001b[1;31m---------------------------------------------------------------------------\u001b[0m",
      "\u001b[1;31mTypeError\u001b[0m                                 Traceback (most recent call last)",
      "\u001b[1;32m~\\AppData\\Local\\Temp/ipykernel_16896/964676364.py\u001b[0m in \u001b[0;36m<module>\u001b[1;34m\u001b[0m\n\u001b[1;32m----> 1\u001b[1;33m \u001b[0mpower\u001b[0m\u001b[1;33m(\u001b[0m\u001b[1;33m)\u001b[0m\u001b[1;33m\u001b[0m\u001b[1;33m\u001b[0m\u001b[0m\n\u001b[0m",
      "\u001b[1;31mTypeError\u001b[0m: power() missing 2 required positional arguments: 'a' and 'b'"
     ]
    }
   ],
   "source": [
    "power()"
   ]
  },
  {
   "cell_type": "code",
   "execution_count": 45,
   "id": "d990b562",
   "metadata": {},
   "outputs": [],
   "source": [
    "def power(a=1, b=1):\n",
    "    \n",
    "    \"\"\"\n",
    "    Gives the power of a to b.\n",
    "    Input : a, b (two valid numbers)\n",
    "    Output: power of a to b\n",
    "    Default values : a=1 and b=1\n",
    "    \"\"\"\n",
    "    return a**b "
   ]
  },
  {
   "cell_type": "code",
   "execution_count": 46,
   "id": "f806deda",
   "metadata": {},
   "outputs": [
    {
     "data": {
      "text/plain": [
       "8"
      ]
     },
     "execution_count": 46,
     "metadata": {},
     "output_type": "execute_result"
    }
   ],
   "source": [
    "power(2,3)"
   ]
  },
  {
   "cell_type": "code",
   "execution_count": 47,
   "id": "02e824eb",
   "metadata": {},
   "outputs": [
    {
     "data": {
      "text/plain": [
       "9"
      ]
     },
     "execution_count": 47,
     "metadata": {},
     "output_type": "execute_result"
    }
   ],
   "source": [
    "power(3,2)"
   ]
  },
  {
   "cell_type": "code",
   "execution_count": 48,
   "id": "92d2f67f",
   "metadata": {},
   "outputs": [
    {
     "data": {
      "text/plain": [
       "4"
      ]
     },
     "execution_count": 48,
     "metadata": {},
     "output_type": "execute_result"
    }
   ],
   "source": [
    "power(4)  # a = 4, and takes the b = 1 (the default value)"
   ]
  },
  {
   "cell_type": "code",
   "execution_count": 49,
   "id": "b1fe2f22",
   "metadata": {},
   "outputs": [
    {
     "data": {
      "text/plain": [
       "1"
      ]
     },
     "execution_count": 49,
     "metadata": {},
     "output_type": "execute_result"
    }
   ],
   "source": [
    "power()"
   ]
  },
  {
   "cell_type": "markdown",
   "id": "281ecdcb",
   "metadata": {},
   "source": [
    "###  Keyword Arguments"
   ]
  },
  {
   "cell_type": "code",
   "execution_count": 50,
   "id": "33ea1fa4",
   "metadata": {},
   "outputs": [
    {
     "data": {
      "text/plain": [
       "9"
      ]
     },
     "execution_count": 50,
     "metadata": {},
     "output_type": "execute_result"
    }
   ],
   "source": [
    "power(b=2,a=3)"
   ]
  },
  {
   "cell_type": "markdown",
   "id": "d652d669",
   "metadata": {},
   "source": [
    "Keyword Arguments is given priority over Positional Arguments (Always)"
   ]
  },
  {
   "cell_type": "markdown",
   "id": "9ed5b37c",
   "metadata": {},
   "source": [
    "###  Arbitary Arguments"
   ]
  },
  {
   "cell_type": "code",
   "execution_count": 58,
   "id": "149aa6ee",
   "metadata": {},
   "outputs": [],
   "source": [
    "def flexi(*number):\n",
    "    product = 1\n",
    "    for i in number:\n",
    "        product = product*i\n",
    "    return product"
   ]
  },
  {
   "cell_type": "code",
   "execution_count": 59,
   "id": "cee7ff64",
   "metadata": {},
   "outputs": [],
   "source": [
    "import math"
   ]
  },
  {
   "cell_type": "code",
   "execution_count": 60,
   "id": "47c3d616",
   "metadata": {},
   "outputs": [
    {
     "data": {
      "text/plain": [
       "120"
      ]
     },
     "execution_count": 60,
     "metadata": {},
     "output_type": "execute_result"
    }
   ],
   "source": [
    "math.factorial(5)"
   ]
  },
  {
   "cell_type": "code",
   "execution_count": 61,
   "id": "41b58b7b",
   "metadata": {},
   "outputs": [
    {
     "data": {
      "text/plain": [
       "120"
      ]
     },
     "execution_count": 61,
     "metadata": {},
     "output_type": "execute_result"
    }
   ],
   "source": [
    "flexi(1,2,3,4,5)"
   ]
  },
  {
   "cell_type": "code",
   "execution_count": 66,
   "id": "94d1fcbc",
   "metadata": {},
   "outputs": [],
   "source": [
    "def f(x):\n",
    "    x = x+1\n",
    "    print('in f(x): x = ',x)\n",
    "    return x"
   ]
  },
  {
   "cell_type": "code",
   "execution_count": 67,
   "id": "369e1413",
   "metadata": {},
   "outputs": [
    {
     "name": "stdout",
     "output_type": "stream",
     "text": [
      "in f(x): x =  4\n"
     ]
    }
   ],
   "source": [
    "y = 3\n",
    "z = f(y)"
   ]
  },
  {
   "cell_type": "code",
   "execution_count": 68,
   "id": "4a85ff28",
   "metadata": {},
   "outputs": [],
   "source": [
    "def f():\n",
    "    print('Inside f')\n",
    "    def g():\n",
    "        print('inside g')\n",
    "    g()"
   ]
  },
  {
   "cell_type": "code",
   "execution_count": 69,
   "id": "641d2463",
   "metadata": {},
   "outputs": [
    {
     "name": "stdout",
     "output_type": "stream",
     "text": [
      "Inside f\n",
      "inside g\n"
     ]
    }
   ],
   "source": [
    "f()"
   ]
  },
  {
   "cell_type": "code",
   "execution_count": 70,
   "id": "82ecb0c8",
   "metadata": {},
   "outputs": [
    {
     "ename": "NameError",
     "evalue": "name 'g' is not defined",
     "output_type": "error",
     "traceback": [
      "\u001b[1;31m---------------------------------------------------------------------------\u001b[0m",
      "\u001b[1;31mNameError\u001b[0m                                 Traceback (most recent call last)",
      "\u001b[1;32m~\\AppData\\Local\\Temp/ipykernel_16896/258099874.py\u001b[0m in \u001b[0;36m<module>\u001b[1;34m\u001b[0m\n\u001b[1;32m----> 1\u001b[1;33m \u001b[0mg\u001b[0m\u001b[1;33m(\u001b[0m\u001b[1;33m)\u001b[0m\u001b[1;33m\u001b[0m\u001b[1;33m\u001b[0m\u001b[0m\n\u001b[0m",
      "\u001b[1;31mNameError\u001b[0m: name 'g' is not defined"
     ]
    }
   ],
   "source": [
    "g()"
   ]
  },
  {
   "cell_type": "code",
   "execution_count": 72,
   "id": "22313603",
   "metadata": {},
   "outputs": [],
   "source": [
    "def f():\n",
    "    print('Inside f')\n",
    "    def g():\n",
    "        print('inside g')\n",
    "    g()"
   ]
  },
  {
   "cell_type": "code",
   "execution_count": 73,
   "id": "994a3b5f",
   "metadata": {},
   "outputs": [
    {
     "name": "stdout",
     "output_type": "stream",
     "text": [
      "Inside f\n",
      "inside g\n"
     ]
    }
   ],
   "source": [
    "f()"
   ]
  },
  {
   "cell_type": "code",
   "execution_count": 74,
   "id": "1670bfd7",
   "metadata": {},
   "outputs": [],
   "source": [
    "def g(x):\n",
    "    def h(x):\n",
    "        x = x+1\n",
    "        print('in h(x): x = ',x)\n",
    "        return x\n",
    "    x = x+1\n",
    "    print('in g(x): x = ', x)\n",
    "    h(x)\n",
    "    return x\n",
    "\n",
    "\n"
   ]
  },
  {
   "cell_type": "code",
   "execution_count": 79,
   "id": "e66d3794",
   "metadata": {},
   "outputs": [
    {
     "name": "stdout",
     "output_type": "stream",
     "text": [
      "in g(x): x =  4\n",
      "in h(x): x =  5\n",
      "3\n",
      "4\n"
     ]
    }
   ],
   "source": [
    "x = 3\n",
    "z = g(x)\n",
    "print(x)\n",
    "print(z)"
   ]
  },
  {
   "cell_type": "markdown",
   "id": "a2f05fc7",
   "metadata": {},
   "source": [
    "# Everything in python is an Object"
   ]
  },
  {
   "cell_type": "code",
   "execution_count": 80,
   "id": "901b1d49",
   "metadata": {},
   "outputs": [],
   "source": [
    "def f(number):\n",
    "    return number**2"
   ]
  },
  {
   "cell_type": "code",
   "execution_count": 81,
   "id": "50597a90",
   "metadata": {},
   "outputs": [
    {
     "data": {
      "text/plain": [
       "4"
      ]
     },
     "execution_count": 81,
     "metadata": {},
     "output_type": "execute_result"
    }
   ],
   "source": [
    "f(2)"
   ]
  },
  {
   "cell_type": "code",
   "execution_count": 82,
   "id": "f4266139",
   "metadata": {},
   "outputs": [
    {
     "data": {
      "text/plain": [
       "16"
      ]
     },
     "execution_count": 82,
     "metadata": {},
     "output_type": "execute_result"
    }
   ],
   "source": [
    "f(4)"
   ]
  },
  {
   "cell_type": "code",
   "execution_count": 84,
   "id": "19d7590b",
   "metadata": {},
   "outputs": [],
   "source": [
    "# aliasing the function\n",
    "x = f\n",
    "# now x became a function"
   ]
  },
  {
   "cell_type": "code",
   "execution_count": 86,
   "id": "6f6b0d33",
   "metadata": {},
   "outputs": [
    {
     "data": {
      "text/plain": [
       "<function __main__.f(number)>"
      ]
     },
     "execution_count": 86,
     "metadata": {},
     "output_type": "execute_result"
    }
   ],
   "source": [
    "x"
   ]
  },
  {
   "cell_type": "code",
   "execution_count": 87,
   "id": "6b6c8acc",
   "metadata": {},
   "outputs": [
    {
     "data": {
      "text/plain": [
       "4"
      ]
     },
     "execution_count": 87,
     "metadata": {},
     "output_type": "execute_result"
    }
   ],
   "source": [
    "x(2)"
   ]
  },
  {
   "cell_type": "code",
   "execution_count": 88,
   "id": "de81cb2c",
   "metadata": {},
   "outputs": [
    {
     "data": {
      "text/plain": [
       "16"
      ]
     },
     "execution_count": 88,
     "metadata": {},
     "output_type": "execute_result"
    }
   ],
   "source": [
    "x(4)"
   ]
  },
  {
   "cell_type": "code",
   "execution_count": 89,
   "id": "496234a2",
   "metadata": {},
   "outputs": [],
   "source": [
    "# Deleting the main function f\n",
    "\n",
    "del f"
   ]
  },
  {
   "cell_type": "code",
   "execution_count": 94,
   "id": "79622133",
   "metadata": {},
   "outputs": [
    {
     "ename": "NameError",
     "evalue": "name 'f' is not defined",
     "output_type": "error",
     "traceback": [
      "\u001b[1;31m---------------------------------------------------------------------------\u001b[0m",
      "\u001b[1;31mNameError\u001b[0m                                 Traceback (most recent call last)",
      "\u001b[1;32m~\\AppData\\Local\\Temp/ipykernel_16896/3272250079.py\u001b[0m in \u001b[0;36m<module>\u001b[1;34m\u001b[0m\n\u001b[1;32m----> 1\u001b[1;33m \u001b[0mf\u001b[0m\u001b[1;33m(\u001b[0m\u001b[1;36m2\u001b[0m\u001b[1;33m)\u001b[0m\u001b[1;33m\u001b[0m\u001b[1;33m\u001b[0m\u001b[0m\n\u001b[0m",
      "\u001b[1;31mNameError\u001b[0m: name 'f' is not defined"
     ]
    }
   ],
   "source": [
    "f(2)"
   ]
  },
  {
   "cell_type": "code",
   "execution_count": 91,
   "id": "e1e1c7bd",
   "metadata": {},
   "outputs": [
    {
     "data": {
      "text/plain": [
       "<function __main__.f(number)>"
      ]
     },
     "execution_count": 91,
     "metadata": {},
     "output_type": "execute_result"
    }
   ],
   "source": [
    "# But x still is a function\n",
    "x"
   ]
  },
  {
   "cell_type": "code",
   "execution_count": 92,
   "id": "4943fc9a",
   "metadata": {},
   "outputs": [
    {
     "data": {
      "text/plain": [
       "4"
      ]
     },
     "execution_count": 92,
     "metadata": {},
     "output_type": "execute_result"
    }
   ],
   "source": [
    "x(2)"
   ]
  },
  {
   "cell_type": "code",
   "execution_count": 95,
   "id": "e5d0dd56",
   "metadata": {},
   "outputs": [
    {
     "data": {
      "text/plain": [
       "16"
      ]
     },
     "execution_count": 95,
     "metadata": {},
     "output_type": "execute_result"
    }
   ],
   "source": [
    "x(4)"
   ]
  },
  {
   "cell_type": "code",
   "execution_count": 96,
   "id": "f1b25380",
   "metadata": {},
   "outputs": [
    {
     "data": {
      "text/plain": [
       "function"
      ]
     },
     "execution_count": 96,
     "metadata": {},
     "output_type": "execute_result"
    }
   ],
   "source": [
    "type(x)"
   ]
  },
  {
   "cell_type": "code",
   "execution_count": 97,
   "id": "2b738fb1",
   "metadata": {},
   "outputs": [],
   "source": [
    "L = [1,2,3,4]"
   ]
  },
  {
   "cell_type": "code",
   "execution_count": 98,
   "id": "47d8e878",
   "metadata": {},
   "outputs": [
    {
     "data": {
      "text/plain": [
       "[1, 2, 3, 4]"
      ]
     },
     "execution_count": 98,
     "metadata": {},
     "output_type": "execute_result"
    }
   ],
   "source": [
    "L"
   ]
  },
  {
   "cell_type": "code",
   "execution_count": 99,
   "id": "4aac17c9",
   "metadata": {},
   "outputs": [],
   "source": [
    "L.append(x)"
   ]
  },
  {
   "cell_type": "code",
   "execution_count": 100,
   "id": "fa2db12c",
   "metadata": {},
   "outputs": [
    {
     "data": {
      "text/plain": [
       "[1, 2, 3, 4, <function __main__.f(number)>]"
      ]
     },
     "execution_count": 100,
     "metadata": {},
     "output_type": "execute_result"
    }
   ],
   "source": [
    "L"
   ]
  },
  {
   "cell_type": "code",
   "execution_count": 104,
   "id": "123bdfc6",
   "metadata": {},
   "outputs": [
    {
     "data": {
      "text/plain": [
       "9"
      ]
     },
     "execution_count": 104,
     "metadata": {},
     "output_type": "execute_result"
    }
   ],
   "source": [
    "L[-1](3)"
   ]
  },
  {
   "cell_type": "code",
   "execution_count": 106,
   "id": "91c3d9ff",
   "metadata": {},
   "outputs": [
    {
     "data": {
      "text/plain": [
       "[1, 2, 3, 4, 25]"
      ]
     },
     "execution_count": 106,
     "metadata": {},
     "output_type": "execute_result"
    }
   ],
   "source": [
    "L = [1,2,3,4,x(5)]\n",
    "L"
   ]
  },
  {
   "cell_type": "code",
   "execution_count": 114,
   "id": "84b6241d",
   "metadata": {},
   "outputs": [
    {
     "name": "stdout",
     "output_type": "stream",
     "text": [
      "inside_func_c\n",
      "inside func_a\n",
      "None\n"
     ]
    }
   ],
   "source": [
    "def func_a():\n",
    "    print('inside func_a')\n",
    "    \n",
    "def func_c(z):\n",
    "    print('inside_func_c')\n",
    "    return z()\n",
    "\n",
    "\n",
    "print(func_c(func_a))"
   ]
  },
  {
   "cell_type": "markdown",
   "id": "d88d21d6",
   "metadata": {},
   "source": [
    "# Benefits of Using a Function"
   ]
  },
  {
   "cell_type": "markdown",
   "id": "526e56e9",
   "metadata": {},
   "source": [
    "1. Every Code is self-contained and used to break up the entire logic into pieces (Code Modularity)"
   ]
  },
  {
   "cell_type": "markdown",
   "id": "3815fa4c",
   "metadata": {},
   "source": [
    "2. Works on the philosophy of write once use forever! (Code Reusability)"
   ]
  },
  {
   "cell_type": "markdown",
   "id": "81af41b6",
   "metadata": {},
   "source": [
    "3. Code is organized and coherent (Code Readibility)"
   ]
  },
  {
   "cell_type": "code",
   "execution_count": null,
   "id": "4f6807b6",
   "metadata": {},
   "outputs": [],
   "source": []
  }
 ],
 "metadata": {
  "kernelspec": {
   "display_name": "Python 3 (ipykernel)",
   "language": "python",
   "name": "python3"
  },
  "language_info": {
   "codemirror_mode": {
    "name": "ipython",
    "version": 3
   },
   "file_extension": ".py",
   "mimetype": "text/x-python",
   "name": "python",
   "nbconvert_exporter": "python",
   "pygments_lexer": "ipython3",
   "version": "3.9.7"
  }
 },
 "nbformat": 4,
 "nbformat_minor": 5
}
