{
 "cells": [
  {
   "cell_type": "markdown",
   "id": "dbdca019",
   "metadata": {},
   "source": [
    "# Lambda Functions"
   ]
  },
  {
   "cell_type": "code",
   "execution_count": 2,
   "id": "c3a1b78b",
   "metadata": {},
   "outputs": [],
   "source": [
    "x = lambda x :x**2"
   ]
  },
  {
   "cell_type": "code",
   "execution_count": 3,
   "id": "67303064",
   "metadata": {},
   "outputs": [
    {
     "data": {
      "text/plain": [
       "81"
      ]
     },
     "execution_count": 3,
     "metadata": {},
     "output_type": "execute_result"
    }
   ],
   "source": [
    "x(9)"
   ]
  },
  {
   "cell_type": "code",
   "execution_count": 4,
   "id": "5d10c40d",
   "metadata": {},
   "outputs": [
    {
     "data": {
      "text/plain": [
       "25"
      ]
     },
     "execution_count": 4,
     "metadata": {},
     "output_type": "execute_result"
    }
   ],
   "source": [
    "x(5)"
   ]
  },
  {
   "cell_type": "code",
   "execution_count": 6,
   "id": "f17208a0",
   "metadata": {},
   "outputs": [],
   "source": [
    "a = lambda x, y : x+y"
   ]
  },
  {
   "cell_type": "code",
   "execution_count": 8,
   "id": "51f1fb70",
   "metadata": {},
   "outputs": [
    {
     "data": {
      "text/plain": [
       "3"
      ]
     },
     "execution_count": 8,
     "metadata": {},
     "output_type": "execute_result"
    }
   ],
   "source": [
    "a(2,1)"
   ]
  },
  {
   "cell_type": "markdown",
   "id": "ed9c0b36",
   "metadata": {},
   "source": [
    "## Differences b/w Lambda and normal Functions"
   ]
  },
  {
   "cell_type": "markdown",
   "id": "b62926c0",
   "metadata": {},
   "source": [
    "1. Lambda has no return value"
   ]
  },
  {
   "cell_type": "markdown",
   "id": "11428e52",
   "metadata": {},
   "source": [
    "2. It's only one line. You cannot write lambda function which is more than one line"
   ]
  },
  {
   "cell_type": "markdown",
   "id": "d8fa9a58",
   "metadata": {},
   "source": [
    "3. Not used for code reusability"
   ]
  },
  {
   "cell_type": "markdown",
   "id": "b7b41cf3",
   "metadata": {},
   "source": [
    "4. No name "
   ]
  },
  {
   "cell_type": "markdown",
   "id": "188b1ba2",
   "metadata": {},
   "source": [
    "###  Why use Lambda functions? "
   ]
  },
  {
   "cell_type": "markdown",
   "id": "c038dc81",
   "metadata": {},
   "source": [
    " Lambda functions are generally used along with Higher order functions"
   ]
  },
  {
   "cell_type": "markdown",
   "id": "6ec1745c",
   "metadata": {},
   "source": [
    "Some higher order functions need another function as an input, that's when lambda functions can be used."
   ]
  },
  {
   "cell_type": "code",
   "execution_count": 35,
   "id": "f9e9d7ad",
   "metadata": {},
   "outputs": [],
   "source": [
    "b = lambda x:  True if type(x) == str and x[0] == 'a' else False\n",
    "# Checks whether the first letter of a string is 'a' or not."
   ]
  },
  {
   "cell_type": "code",
   "execution_count": 36,
   "id": "10eb7bb5",
   "metadata": {},
   "outputs": [
    {
     "data": {
      "text/plain": [
       "True"
      ]
     },
     "execution_count": 36,
     "metadata": {},
     "output_type": "execute_result"
    }
   ],
   "source": [
    "b('astring')"
   ]
  },
  {
   "cell_type": "code",
   "execution_count": 37,
   "id": "af5fdf84",
   "metadata": {},
   "outputs": [
    {
     "data": {
      "text/plain": [
       "False"
      ]
     },
     "execution_count": 37,
     "metadata": {},
     "output_type": "execute_result"
    }
   ],
   "source": [
    "b(4552)"
   ]
  },
  {
   "cell_type": "code",
   "execution_count": 28,
   "id": "ba48f887",
   "metadata": {},
   "outputs": [],
   "source": [
    "e = lambda x: \"Even\" if x%2==0 else 'Odd'"
   ]
  },
  {
   "cell_type": "code",
   "execution_count": 27,
   "id": "6b69a4a4",
   "metadata": {},
   "outputs": [
    {
     "data": {
      "text/plain": [
       "'Even'"
      ]
     },
     "execution_count": 27,
     "metadata": {},
     "output_type": "execute_result"
    }
   ],
   "source": [
    "e(24)"
   ]
  },
  {
   "cell_type": "code",
   "execution_count": 29,
   "id": "1fb9e817",
   "metadata": {},
   "outputs": [
    {
     "data": {
      "text/plain": [
       "'Odd'"
      ]
     },
     "execution_count": 29,
     "metadata": {},
     "output_type": "execute_result"
    }
   ],
   "source": [
    "e(1)"
   ]
  },
  {
   "cell_type": "markdown",
   "id": "c70dce31",
   "metadata": {},
   "source": [
    "## Higher Order Functions"
   ]
  },
  {
   "cell_type": "code",
   "execution_count": 39,
   "id": "8d57bfa4",
   "metadata": {},
   "outputs": [],
   "source": [
    "def return_sum(func, L):\n",
    "    \n",
    "    result = 0\n",
    "    \n",
    "    for i in L:\n",
    "        \n",
    "        if func(i):\n",
    "            result = result + i\n",
    "            \n",
    "    return result\n",
    "\n",
    "x = lambda x:x%2 == 0\n",
    "y = lambda x:x%2 != 0\n",
    "z = lambda x:x%3 == 0"
   ]
  },
  {
   "cell_type": "code",
   "execution_count": 40,
   "id": "b611c473",
   "metadata": {},
   "outputs": [],
   "source": [
    "L = [11,14,21,33,56,78,45,29,74]"
   ]
  },
  {
   "cell_type": "code",
   "execution_count": 41,
   "id": "6d6c6136",
   "metadata": {},
   "outputs": [
    {
     "data": {
      "text/plain": [
       "177"
      ]
     },
     "execution_count": 41,
     "metadata": {},
     "output_type": "execute_result"
    }
   ],
   "source": [
    "return_sum(z,L)"
   ]
  },
  {
   "cell_type": "code",
   "execution_count": 42,
   "id": "3ace0c9a",
   "metadata": {},
   "outputs": [
    {
     "data": {
      "text/plain": [
       "222"
      ]
     },
     "execution_count": 42,
     "metadata": {},
     "output_type": "execute_result"
    }
   ],
   "source": [
    "return_sum(x,L)"
   ]
  },
  {
   "cell_type": "markdown",
   "id": "75970f07",
   "metadata": {},
   "source": [
    "3 Important Higher order functions in python\n",
    "\n",
    "1. Map\n",
    "2. Reduce\n",
    "3. Filter"
   ]
  },
  {
   "cell_type": "markdown",
   "id": "ff45998e",
   "metadata": {},
   "source": [
    "### Map Function"
   ]
  },
  {
   "cell_type": "code",
   "execution_count": 43,
   "id": "5c3763ad",
   "metadata": {},
   "outputs": [],
   "source": [
    "L = range(7)"
   ]
  },
  {
   "cell_type": "code",
   "execution_count": 44,
   "id": "67440c87",
   "metadata": {},
   "outputs": [
    {
     "data": {
      "text/plain": [
       "<map at 0x24245b36730>"
      ]
     },
     "execution_count": 44,
     "metadata": {},
     "output_type": "execute_result"
    }
   ],
   "source": [
    "map(lambda x:x*2,L)"
   ]
  },
  {
   "cell_type": "code",
   "execution_count": 45,
   "id": "2ae36078",
   "metadata": {},
   "outputs": [
    {
     "data": {
      "text/plain": [
       "[0, 2, 4, 6, 8, 10, 12]"
      ]
     },
     "execution_count": 45,
     "metadata": {},
     "output_type": "execute_result"
    }
   ],
   "source": [
    "list(map(lambda x:x*2,L))"
   ]
  },
  {
   "cell_type": "code",
   "execution_count": 47,
   "id": "5263831a",
   "metadata": {},
   "outputs": [
    {
     "data": {
      "text/plain": [
       "['Even', 'Odd', 'Even', 'Odd', 'Even']"
      ]
     },
     "execution_count": 47,
     "metadata": {},
     "output_type": "execute_result"
    }
   ],
   "source": [
    "list(map(lambda x :'Even' if x%2 == 0 else 'Odd', range(5)))"
   ]
  },
  {
   "cell_type": "code",
   "execution_count": 48,
   "id": "da07ce90",
   "metadata": {},
   "outputs": [
    {
     "data": {
      "text/plain": [
       "[True, False, True, False, True, False, True, False, True, False]"
      ]
     },
     "execution_count": 48,
     "metadata": {},
     "output_type": "execute_result"
    }
   ],
   "source": [
    "list(map(lambda x:x%2==0,range(10)))"
   ]
  },
  {
   "cell_type": "code",
   "execution_count": null,
   "id": "1465624b",
   "metadata": {},
   "outputs": [],
   "source": []
  },
  {
   "cell_type": "markdown",
   "id": "1da31edc",
   "metadata": {},
   "source": [
    "### Filter Function"
   ]
  },
  {
   "cell_type": "code",
   "execution_count": 50,
   "id": "06d264d5",
   "metadata": {},
   "outputs": [
    {
     "data": {
      "text/plain": [
       "[5, 6]"
      ]
     },
     "execution_count": 50,
     "metadata": {},
     "output_type": "execute_result"
    }
   ],
   "source": [
    "list(filter(lambda x:x>4,L))"
   ]
  },
  {
   "cell_type": "code",
   "execution_count": 51,
   "id": "8ed70d33",
   "metadata": {},
   "outputs": [],
   "source": [
    "fruits = ['Orange','Apple','Mango','Guava']"
   ]
  },
  {
   "cell_type": "code",
   "execution_count": 55,
   "id": "00176e1c",
   "metadata": {},
   "outputs": [
    {
     "data": {
      "text/plain": [
       "['Orange', 'Apple']"
      ]
     },
     "execution_count": 55,
     "metadata": {},
     "output_type": "execute_result"
    }
   ],
   "source": [
    "list(filter(lambda fruit:'e'in fruit, fruits))"
   ]
  },
  {
   "cell_type": "code",
   "execution_count": null,
   "id": "8388a1bc",
   "metadata": {},
   "outputs": [],
   "source": []
  },
  {
   "cell_type": "markdown",
   "id": "dbbf5926",
   "metadata": {},
   "source": [
    "### Reduce Function"
   ]
  },
  {
   "cell_type": "code",
   "execution_count": 59,
   "id": "f55da0a8",
   "metadata": {},
   "outputs": [],
   "source": [
    "import functools as ft"
   ]
  },
  {
   "cell_type": "code",
   "execution_count": 57,
   "id": "15ac22d7",
   "metadata": {},
   "outputs": [
    {
     "data": {
      "text/plain": [
       "range(0, 7)"
      ]
     },
     "execution_count": 57,
     "metadata": {},
     "output_type": "execute_result"
    }
   ],
   "source": [
    "L"
   ]
  },
  {
   "cell_type": "code",
   "execution_count": 63,
   "id": "34b802cb",
   "metadata": {},
   "outputs": [
    {
     "data": {
      "text/plain": [
       "28"
      ]
     },
     "execution_count": 63,
     "metadata": {},
     "output_type": "execute_result"
    }
   ],
   "source": [
    "ft.reduce(lambda x,y:x+y,range(8))"
   ]
  },
  {
   "cell_type": "code",
   "execution_count": 64,
   "id": "c2aaf45e",
   "metadata": {},
   "outputs": [],
   "source": [
    "N = [12,45,9,835,98,102,4,5,6,2,562,7458,33,25]"
   ]
  },
  {
   "cell_type": "code",
   "execution_count": 66,
   "id": "e5570962",
   "metadata": {},
   "outputs": [
    {
     "data": {
      "text/plain": [
       "7458"
      ]
     },
     "execution_count": 66,
     "metadata": {},
     "output_type": "execute_result"
    }
   ],
   "source": [
    "ft.reduce(lambda x,y:x if x>y else y, N)"
   ]
  },
  {
   "cell_type": "markdown",
   "id": "400d3d2a",
   "metadata": {},
   "source": [
    "# Dictionary Comprehension"
   ]
  },
  {
   "cell_type": "code",
   "execution_count": 67,
   "id": "cd02bd7a",
   "metadata": {},
   "outputs": [
    {
     "data": {
      "text/plain": [
       "range(0, 7)"
      ]
     },
     "execution_count": 67,
     "metadata": {},
     "output_type": "execute_result"
    }
   ],
   "source": [
    "L"
   ]
  },
  {
   "cell_type": "code",
   "execution_count": 68,
   "id": "8c2f0c5e",
   "metadata": {},
   "outputs": [],
   "source": [
    "D = {item:item**2 for item in L}"
   ]
  },
  {
   "cell_type": "code",
   "execution_count": 69,
   "id": "27fc28fb",
   "metadata": {},
   "outputs": [
    {
     "data": {
      "text/plain": [
       "{0: 0, 1: 1, 2: 4, 3: 9, 4: 16, 5: 25, 6: 36}"
      ]
     },
     "execution_count": 69,
     "metadata": {},
     "output_type": "execute_result"
    }
   ],
   "source": [
    "D"
   ]
  },
  {
   "cell_type": "code",
   "execution_count": 71,
   "id": "67939f59",
   "metadata": {},
   "outputs": [],
   "source": [
    "A = {\"Name\":'Vamshi','Gender':'Male',\"Age\":24}"
   ]
  },
  {
   "cell_type": "code",
   "execution_count": 74,
   "id": "fe336753",
   "metadata": {},
   "outputs": [],
   "source": [
    "D1 = {key:value for key,value in A.items() if len(key)>3}"
   ]
  },
  {
   "cell_type": "code",
   "execution_count": 75,
   "id": "eddd464a",
   "metadata": {},
   "outputs": [
    {
     "data": {
      "text/plain": [
       "{'Name': 'Vamshi', 'Gender': 'Male'}"
      ]
     },
     "execution_count": 75,
     "metadata": {},
     "output_type": "execute_result"
    }
   ],
   "source": [
    "D1"
   ]
  },
  {
   "cell_type": "code",
   "execution_count": 76,
   "id": "23dd88d2",
   "metadata": {},
   "outputs": [
    {
     "data": {
      "text/plain": [
       "{0: 0, 1: 1, 2: 4, 3: 9, 4: 16, 5: 25, 6: 36}"
      ]
     },
     "execution_count": 76,
     "metadata": {},
     "output_type": "execute_result"
    }
   ],
   "source": [
    "D"
   ]
  },
  {
   "cell_type": "code",
   "execution_count": 77,
   "id": "9fbdf530",
   "metadata": {},
   "outputs": [],
   "source": [
    "D2 = {item:item**2 for item in L if item%2 ==0}"
   ]
  },
  {
   "cell_type": "code",
   "execution_count": 78,
   "id": "0818719f",
   "metadata": {},
   "outputs": [
    {
     "data": {
      "text/plain": [
       "{0: 0, 2: 4, 4: 16, 6: 36}"
      ]
     },
     "execution_count": 78,
     "metadata": {},
     "output_type": "execute_result"
    }
   ],
   "source": [
    "D2"
   ]
  },
  {
   "cell_type": "code",
   "execution_count": null,
   "id": "208f10b4",
   "metadata": {},
   "outputs": [],
   "source": []
  }
 ],
 "metadata": {
  "kernelspec": {
   "display_name": "Python 3 (ipykernel)",
   "language": "python",
   "name": "python3"
  },
  "language_info": {
   "codemirror_mode": {
    "name": "ipython",
    "version": 3
   },
   "file_extension": ".py",
   "mimetype": "text/x-python",
   "name": "python",
   "nbconvert_exporter": "python",
   "pygments_lexer": "ipython3",
   "version": "3.9.7"
  }
 },
 "nbformat": 4,
 "nbformat_minor": 5
}
