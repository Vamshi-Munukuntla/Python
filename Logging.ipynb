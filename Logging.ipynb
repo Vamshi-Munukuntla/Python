{
 "cells": [
  {
   "cell_type": "code",
   "execution_count": 1,
   "id": "25569bfb",
   "metadata": {},
   "outputs": [],
   "source": [
    "import logging as lg"
   ]
  },
  {
   "cell_type": "code",
   "execution_count": 2,
   "id": "a77e041d",
   "metadata": {},
   "outputs": [
    {
     "name": "stderr",
     "output_type": "stream",
     "text": [
      "WARNING:root:This is an warning message\n",
      "ERROR:root:This is an error message\n",
      "CRITICAL:root:This is a critical message\n"
     ]
    }
   ],
   "source": [
    "lg.debug('This is a debug message')\n",
    "lg.info('This is an info message')\n",
    "lg.warning(\"This is an warning message\")\n",
    "lg.error('This is an error message')\n",
    "lg.critical('This is a critical message')"
   ]
  },
  {
   "cell_type": "markdown",
   "id": "f4270354",
   "metadata": {},
   "source": [
    "`root` is the name of the default logger"
   ]
  },
  {
   "cell_type": "markdown",
   "id": "51e75a66",
   "metadata": {},
   "source": [
    "1. By default, Logging only provides warning, error and critical messages.\n",
    "\n",
    "2. It does not provide debug and info messages by default.\n",
    "\n",
    "3. We have to manually override the logging level to get ebug and info messages."
   ]
  },
  {
   "cell_type": "markdown",
   "id": "27565e5e",
   "metadata": {},
   "source": [
    "    The default logger logs events marked as WARNING or more severe (ERROR & CRITICAL)"
   ]
  },
  {
   "cell_type": "markdown",
   "id": "519b67a0",
   "metadata": {},
   "source": [
    "### Basic Configurations"
   ]
  },
  {
   "cell_type": "markdown",
   "id": "5db210c1",
   "metadata": {},
   "source": [
    "The **basicConfig (kwargs)** method is used to configure logging.\n",
    "\n",
    "Common Parameters:\n",
    "    \n",
    "    level:    set the minimal severity level to log\n",
    "    filename: file to log to \n",
    "    filemode: mode to open file in, a (append) by default\n",
    "    format:   the format of the log message"
   ]
  },
  {
   "cell_type": "code",
   "execution_count": 1,
   "id": "5ce5c753",
   "metadata": {},
   "outputs": [
    {
     "name": "stderr",
     "output_type": "stream",
     "text": [
      "DEBUG:root:This debug message will be logged\n"
     ]
    }
   ],
   "source": [
    "import logging as lg\n",
    "\n",
    "lg.basicConfig(level=lg.DEBUG)\n",
    "lg.debug('This debug message will be logged')"
   ]
  },
  {
   "cell_type": "code",
   "execution_count": 1,
   "id": "b869a33f",
   "metadata": {},
   "outputs": [],
   "source": [
    "import logging as lg\n",
    "\n",
    "lg.basicConfig(\n",
    "    filename = 'bahubali.log',\n",
    "    filemode = 'w',\n",
    "    format   = '%(name)s : %(levelname)s : %(message)s'\n",
    ")\n",
    "\n",
    "lg.warning('This will get logged to a file')"
   ]
  },
  {
   "cell_type": "markdown",
   "id": "7ea166ea",
   "metadata": {},
   "source": [
    "## Formatting the Output"
   ]
  },
  {
   "cell_type": "code",
   "execution_count": 1,
   "id": "ee03628a",
   "metadata": {},
   "outputs": [
    {
     "name": "stderr",
     "output_type": "stream",
     "text": [
      "18248 - WARNING - This is a Warning\n"
     ]
    }
   ],
   "source": [
    "import logging as lg\n",
    "\n",
    "lg.basicConfig(\n",
    "    format = '%(process)s - %(levelname)s - %(message)s'\n",
    ")\n",
    "\n",
    "lg.warning('This is a Warning')"
   ]
  },
  {
   "cell_type": "code",
   "execution_count": 1,
   "id": "ab658fa3",
   "metadata": {},
   "outputs": [],
   "source": [
    "import logging as lg\n",
    "\n",
    "lg.basicConfig(\n",
    "    format = '%(asctime)s - %(levelname)s - %(message)s',\n",
    "    datefmt = '%d-%b-%y  %H:%M:%S', # formatting the date\n",
    "    level = lg.DEBUG\n",
    ")\n"
   ]
  },
  {
   "cell_type": "markdown",
   "id": "8d6f128f",
   "metadata": {},
   "source": [
    "### Logging Variable Data"
   ]
  },
  {
   "cell_type": "markdown",
   "id": "550ae12d",
   "metadata": {},
   "source": [
    "We can add variable data into our logs using any formatting style, \n",
    "like f-strings."
   ]
  },
  {
   "cell_type": "code",
   "execution_count": 2,
   "id": "e688b036",
   "metadata": {},
   "outputs": [
    {
     "name": "stderr",
     "output_type": "stream",
     "text": [
      "11-Jun-22  11:26:02 - INFO - Kattapa provided the information\n",
      "11-Jun-22  11:26:02 - WARNING - Shivagami expressed her concern\n",
      "11-Jun-22  11:26:02 - CRITICAL - Amarendra Bahubali confirmed the situation as critical\n"
     ]
    }
   ],
   "source": [
    "import logging as lg\n",
    "\n",
    "name = 'Kattapa'\n",
    "name2 = 'Shivagami'\n",
    "name3 = 'Amarendra Bahubali'\n",
    "\n",
    "lg.info(f'{name} provided the information')\n",
    "lg.warning(f'{name2} expressed her concern')\n",
    "lg.critical(f'{name3} confirmed the situation as critical')"
   ]
  },
  {
   "cell_type": "markdown",
   "id": "6d61d407",
   "metadata": {},
   "source": [
    "### Capturing Stack Traces"
   ]
  },
  {
   "cell_type": "markdown",
   "id": "30d22df6",
   "metadata": {},
   "source": [
    "We can use the **logging** module to capture the full stack trace of an application by passing **exc_info** parameter as `True`\n",
    "\n",
    "If exc_info is false, the program output will not show the stack trace, just the message"
   ]
  },
  {
   "cell_type": "code",
   "execution_count": 1,
   "id": "3fead687",
   "metadata": {},
   "outputs": [],
   "source": [
    "import logging as lg\n",
    "formats = '%(process)s - %(levelname)s - %(message)s'\n",
    "lg.basicConfig(filename = 'bahubali.log',format = formats)\n",
    "\n",
    "def func(a,b):\n",
    "    try:\n",
    "        res = a/b\n",
    "        return res\n",
    "    except Exception as e:\n",
    "        lg.error('Exception Occurred')"
   ]
  },
  {
   "cell_type": "code",
   "execution_count": 2,
   "id": "fc17a62d",
   "metadata": {},
   "outputs": [],
   "source": [
    "func(5,0)"
   ]
  },
  {
   "cell_type": "code",
   "execution_count": 1,
   "id": "53f5cfc2",
   "metadata": {},
   "outputs": [],
   "source": [
    "import logging as lg\n",
    "formats = '%(process)s - %(levelname)s - %(message)s'\n",
    "lg.basicConfig(filename = 'bahubali.log',format = formats)\n",
    "\n",
    "def func2(a,b):\n",
    "    try:\n",
    "        res = a/b\n",
    "        return res\n",
    "    except Exception as e:\n",
    "        lg.error('Exception Occurred',exc_info = True)\n",
    "        lg.warning('Excepiton Occured',exc_info = True)"
   ]
  },
  {
   "cell_type": "code",
   "execution_count": 2,
   "id": "c45b771e",
   "metadata": {},
   "outputs": [],
   "source": [
    "func2(5,0)"
   ]
  },
  {
   "cell_type": "markdown",
   "id": "e34b5641",
   "metadata": {},
   "source": [
    "### Creating a Custom Logger"
   ]
  },
  {
   "cell_type": "markdown",
   "id": "b838bb31",
   "metadata": {},
   "source": [
    "The default logger is called `root`"
   ]
  },
  {
   "cell_type": "markdown",
   "id": "c978a89f",
   "metadata": {},
   "source": [
    "The logging module contains several classes we can instantiate to create our own logger.\n"
   ]
  },
  {
   "cell_type": "markdown",
   "id": "fa12443c",
   "metadata": {},
   "source": [
    "**Logger** : Our cutsom logger\n",
    "   \n",
    "**LogRecord** : Loggers automatically create LogRecord objects that have all the information of the event being logged, like the logger name, the function, the line #, and the message\n",
    "\n",
    "**Handler** : Handlers send the LogRecord to the required output destination, like the console or a file.\n",
    "\n",
    "**Formatter** : Used to specify the format of the output by specifying a string format that lists out the attributes that the output should contain."
   ]
  },
  {
   "cell_type": "code",
   "execution_count": 1,
   "id": "7607a4b9",
   "metadata": {
    "scrolled": true
   },
   "outputs": [
    {
     "name": "stderr",
     "output_type": "stream",
     "text": [
      "WARNING:root:This is a warning\n"
     ]
    }
   ],
   "source": [
    "import logging as lg\n",
    "\n",
    "logger = lg.getLogger('example_logger')\n",
    "lg.warning('This is a warning')\n",
    "\n",
    "# The custom logger has no special formatting by default.\n",
    "# We only see the message."
   ]
  },
  {
   "cell_type": "code",
   "execution_count": 1,
   "id": "6da6c99d",
   "metadata": {},
   "outputs": [
    {
     "name": "stderr",
     "output_type": "stream",
     "text": [
      "__main__ - ERROR - This is a warning\n",
      "__main__ - WARNING - This is a debug\n"
     ]
    }
   ],
   "source": [
    "import logging as lg\n",
    "\n",
    "logger = lg.getLogger(__name__)\n",
    "\n",
    "console_handler = lg.StreamHandler()\n",
    "file_handler = lg.FileHandler('file.log')\n",
    "console_handler.setLevel(lg.WARNING)\n",
    "file_handler.setLevel(lg.WARNING)\n",
    "\n",
    "console_format = lg.Formatter('%(name)s - %(levelname)s - %(message)s')\n",
    "file_format = lg.Formatter('%(asctime)s - %(name)s - %(levelname)s - %(message)s')                  \n",
    "console_handler.setFormatter(console_format)\n",
    "file_handler.setFormatter(file_format )\n",
    "\n",
    "logger.addHandler(console_handler)\n",
    "logger.addHandler(file_handler)\n",
    "\n",
    "logger.error('This is a warning')\n",
    "logger.warning('This is a debug')"
   ]
  },
  {
   "cell_type": "markdown",
   "id": "c57ff447",
   "metadata": {},
   "source": [
    "### Other Configuration Methods"
   ]
  },
  {
   "cell_type": "markdown",
   "id": "e5b24a7a",
   "metadata": {},
   "source": [
    "We can configure the logger using a config file or dictionary.\n",
    "\n",
    "This is useful for saving your configurations or modifying them in a running application.\n",
    "\n",
    "**fileConfig()** and **dictConfig()**"
   ]
  },
  {
   "cell_type": "code",
   "execution_count": null,
   "id": "d1cf8c46",
   "metadata": {},
   "outputs": [],
   "source": []
  }
 ],
 "metadata": {
  "kernelspec": {
   "display_name": "Python 3 (ipykernel)",
   "language": "python",
   "name": "python3"
  },
  "language_info": {
   "codemirror_mode": {
    "name": "ipython",
    "version": 3
   },
   "file_extension": ".py",
   "mimetype": "text/x-python",
   "name": "python",
   "nbconvert_exporter": "python",
   "pygments_lexer": "ipython3",
   "version": "3.9.7"
  }
 },
 "nbformat": 4,
 "nbformat_minor": 5
}
