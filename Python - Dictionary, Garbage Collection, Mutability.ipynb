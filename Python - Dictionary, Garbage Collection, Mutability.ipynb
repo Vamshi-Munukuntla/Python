{
 "cells": [
  {
   "cell_type": "code",
   "execution_count": 1,
   "id": "54a2dfc2",
   "metadata": {},
   "outputs": [
    {
     "data": {
      "text/plain": [
       "{'Name': 'Vamshi', 'Gender': 'Male'}"
      ]
     },
     "execution_count": 1,
     "metadata": {},
     "output_type": "execute_result"
    }
   ],
   "source": [
    "# Dictionary\n",
    "\n",
    "{'Name':'Vamshi', \"Gender\":'Male'}"
   ]
  },
  {
   "cell_type": "markdown",
   "id": "5d8f6195",
   "metadata": {},
   "source": [
    "Dictionary has no Indexing.\n",
    "\n",
    "Dictionary is a mutable types.\n",
    "\n",
    "Keys -> immutable\n",
    "\n",
    "Values-> Can by mutable\n",
    "\n",
    "Keys should be unique"
   ]
  },
  {
   "cell_type": "markdown",
   "id": "b3394f8e",
   "metadata": {},
   "source": [
    "Mutable -> List/ Sets/ Dictionary\n",
    "\n",
    "Immutable -> Strings/Tuples/int/float/Boolean/Complex"
   ]
  },
  {
   "cell_type": "markdown",
   "id": "eb1c5751",
   "metadata": {},
   "source": [
    "# Create"
   ]
  },
  {
   "cell_type": "code",
   "execution_count": 2,
   "id": "95a0e8b8",
   "metadata": {},
   "outputs": [],
   "source": [
    "D = {}"
   ]
  },
  {
   "cell_type": "code",
   "execution_count": 3,
   "id": "9645ecd8",
   "metadata": {},
   "outputs": [
    {
     "data": {
      "text/plain": [
       "{}"
      ]
     },
     "execution_count": 3,
     "metadata": {},
     "output_type": "execute_result"
    }
   ],
   "source": [
    "D"
   ]
  },
  {
   "cell_type": "code",
   "execution_count": 4,
   "id": "38ac8748",
   "metadata": {},
   "outputs": [],
   "source": [
    "D = {'Name':'Vamshi', \"Gender\":'Male'}"
   ]
  },
  {
   "cell_type": "code",
   "execution_count": 5,
   "id": "889104c5",
   "metadata": {},
   "outputs": [
    {
     "data": {
      "text/plain": [
       "{'Name': 'Vamshi', 'Gender': 'Male'}"
      ]
     },
     "execution_count": 5,
     "metadata": {},
     "output_type": "execute_result"
    }
   ],
   "source": [
    "D"
   ]
  },
  {
   "cell_type": "code",
   "execution_count": 6,
   "id": "c94568e0",
   "metadata": {},
   "outputs": [
    {
     "ename": "TypeError",
     "evalue": "unhashable type: 'list'",
     "output_type": "error",
     "traceback": [
      "\u001b[1;31m---------------------------------------------------------------------------\u001b[0m",
      "\u001b[1;31mTypeError\u001b[0m                                 Traceback (most recent call last)",
      "\u001b[1;32m~\\AppData\\Local\\Temp/ipykernel_15668/3380558876.py\u001b[0m in \u001b[0;36m<module>\u001b[1;34m\u001b[0m\n\u001b[1;32m----> 1\u001b[1;33m \u001b[0mD1\u001b[0m \u001b[1;33m=\u001b[0m \u001b[1;33m{\u001b[0m\u001b[1;33m[\u001b[0m\u001b[1;36m1\u001b[0m\u001b[1;33m,\u001b[0m\u001b[1;36m2\u001b[0m\u001b[1;33m,\u001b[0m\u001b[1;36m3\u001b[0m\u001b[1;33m]\u001b[0m\u001b[1;33m:\u001b[0m\u001b[1;34m'Vamshi'\u001b[0m\u001b[1;33m}\u001b[0m\u001b[1;33m\u001b[0m\u001b[1;33m\u001b[0m\u001b[0m\n\u001b[0m",
      "\u001b[1;31mTypeError\u001b[0m: unhashable type: 'list'"
     ]
    }
   ],
   "source": [
    "D1 = {[1,2,3]:'Vamshi'}"
   ]
  },
  {
   "cell_type": "code",
   "execution_count": null,
   "id": "7e4c59c9",
   "metadata": {},
   "outputs": [],
   "source": [
    "D1 = {(1,2,3):'Vamshi'}"
   ]
  },
  {
   "cell_type": "code",
   "execution_count": null,
   "id": "3d81d747",
   "metadata": {},
   "outputs": [],
   "source": [
    "D1"
   ]
  },
  {
   "cell_type": "code",
   "execution_count": null,
   "id": "1df688c9",
   "metadata": {},
   "outputs": [],
   "source": [
    "D2 = {\"Name\":'Vamshi',\"Name\": 'Rahul'}"
   ]
  },
  {
   "cell_type": "code",
   "execution_count": null,
   "id": "da84ab50",
   "metadata": {},
   "outputs": [],
   "source": [
    "D2"
   ]
  },
  {
   "cell_type": "code",
   "execution_count": 7,
   "id": "7fce91aa",
   "metadata": {},
   "outputs": [],
   "source": [
    "D3 = {\"Name\":('Vamshi','anu')}"
   ]
  },
  {
   "cell_type": "code",
   "execution_count": 8,
   "id": "67904047",
   "metadata": {},
   "outputs": [
    {
     "data": {
      "text/plain": [
       "{'Name': ('Vamshi', 'anu')}"
      ]
     },
     "execution_count": 8,
     "metadata": {},
     "output_type": "execute_result"
    }
   ],
   "source": [
    "D3"
   ]
  },
  {
   "cell_type": "code",
   "execution_count": 9,
   "id": "0006abd9",
   "metadata": {},
   "outputs": [],
   "source": [
    "D4 = {\"Name\": 'Karthick',\n",
    "     \"Department\":'HIT',\n",
    "     \"Marks\":{\"M1\":23,\"DS\":87}}"
   ]
  },
  {
   "cell_type": "code",
   "execution_count": 10,
   "id": "388441b7",
   "metadata": {},
   "outputs": [
    {
     "data": {
      "text/plain": [
       "{'Name': 'Karthick', 'Department': 'HIT', 'Marks': {'M1': 23, 'DS': 87}}"
      ]
     },
     "execution_count": 10,
     "metadata": {},
     "output_type": "execute_result"
    }
   ],
   "source": [
    "D4"
   ]
  },
  {
   "cell_type": "markdown",
   "id": "4f3c18d6",
   "metadata": {},
   "source": [
    "# Access"
   ]
  },
  {
   "cell_type": "code",
   "execution_count": 11,
   "id": "8374df75",
   "metadata": {},
   "outputs": [
    {
     "data": {
      "text/plain": [
       "dict_keys(['Name', 'Gender'])"
      ]
     },
     "execution_count": 11,
     "metadata": {},
     "output_type": "execute_result"
    }
   ],
   "source": [
    "D.keys()"
   ]
  },
  {
   "cell_type": "code",
   "execution_count": 12,
   "id": "4d763051",
   "metadata": {},
   "outputs": [
    {
     "data": {
      "text/plain": [
       "'Male'"
      ]
     },
     "execution_count": 12,
     "metadata": {},
     "output_type": "execute_result"
    }
   ],
   "source": [
    "D['Gender']"
   ]
  },
  {
   "cell_type": "code",
   "execution_count": 13,
   "id": "fdb04931",
   "metadata": {},
   "outputs": [
    {
     "data": {
      "text/plain": [
       "{'M1': 23, 'DS': 87}"
      ]
     },
     "execution_count": 13,
     "metadata": {},
     "output_type": "execute_result"
    }
   ],
   "source": [
    "D4['Marks']"
   ]
  },
  {
   "cell_type": "code",
   "execution_count": 14,
   "id": "62c6a6b9",
   "metadata": {},
   "outputs": [
    {
     "data": {
      "text/plain": [
       "87"
      ]
     },
     "execution_count": 14,
     "metadata": {},
     "output_type": "execute_result"
    }
   ],
   "source": [
    "D4['Marks']['DS']"
   ]
  },
  {
   "cell_type": "markdown",
   "id": "2e6e640d",
   "metadata": {},
   "source": [
    "# Edit"
   ]
  },
  {
   "cell_type": "code",
   "execution_count": 15,
   "id": "81f886a2",
   "metadata": {},
   "outputs": [
    {
     "data": {
      "text/plain": [
       "{'Name': 'Karthick', 'Department': 'HIT', 'Marks': {'M1': 23, 'DS': 87}}"
      ]
     },
     "execution_count": 15,
     "metadata": {},
     "output_type": "execute_result"
    }
   ],
   "source": [
    "D4"
   ]
  },
  {
   "cell_type": "code",
   "execution_count": 16,
   "id": "a921818e",
   "metadata": {},
   "outputs": [],
   "source": [
    "D4['Name'] = 'Kiran'"
   ]
  },
  {
   "cell_type": "code",
   "execution_count": 17,
   "id": "34b9e996",
   "metadata": {},
   "outputs": [
    {
     "data": {
      "text/plain": [
       "{'Name': 'Kiran', 'Department': 'HIT', 'Marks': {'M1': 23, 'DS': 87}}"
      ]
     },
     "execution_count": 17,
     "metadata": {},
     "output_type": "execute_result"
    }
   ],
   "source": [
    "D4"
   ]
  },
  {
   "cell_type": "markdown",
   "id": "bc9a1bc7",
   "metadata": {},
   "source": [
    "# Add new Key value pairs"
   ]
  },
  {
   "cell_type": "code",
   "execution_count": 18,
   "id": "0202a11d",
   "metadata": {},
   "outputs": [
    {
     "data": {
      "text/plain": [
       "{'Name': 'Vamshi', 'Gender': 'Male'}"
      ]
     },
     "execution_count": 18,
     "metadata": {},
     "output_type": "execute_result"
    }
   ],
   "source": [
    "D"
   ]
  },
  {
   "cell_type": "code",
   "execution_count": 19,
   "id": "98e2f777",
   "metadata": {},
   "outputs": [],
   "source": [
    "D['Age'] = 24"
   ]
  },
  {
   "cell_type": "code",
   "execution_count": 20,
   "id": "462e22ee",
   "metadata": {},
   "outputs": [
    {
     "data": {
      "text/plain": [
       "{'Name': 'Vamshi', 'Gender': 'Male', 'Age': 24}"
      ]
     },
     "execution_count": 20,
     "metadata": {},
     "output_type": "execute_result"
    }
   ],
   "source": [
    "D"
   ]
  },
  {
   "cell_type": "markdown",
   "id": "a06f493f",
   "metadata": {},
   "source": [
    "# Delete"
   ]
  },
  {
   "cell_type": "code",
   "execution_count": 21,
   "id": "8ab4b004",
   "metadata": {},
   "outputs": [],
   "source": [
    "del D['Age']"
   ]
  },
  {
   "cell_type": "code",
   "execution_count": 22,
   "id": "9d951f5a",
   "metadata": {},
   "outputs": [
    {
     "data": {
      "text/plain": [
       "{'Name': 'Vamshi', 'Gender': 'Male'}"
      ]
     },
     "execution_count": 22,
     "metadata": {},
     "output_type": "execute_result"
    }
   ],
   "source": [
    "D"
   ]
  },
  {
   "cell_type": "code",
   "execution_count": 23,
   "id": "8ff20df5",
   "metadata": {},
   "outputs": [],
   "source": [
    "D.clear()"
   ]
  },
  {
   "cell_type": "code",
   "execution_count": 24,
   "id": "96897c3c",
   "metadata": {},
   "outputs": [
    {
     "data": {
      "text/plain": [
       "{}"
      ]
     },
     "execution_count": 24,
     "metadata": {},
     "output_type": "execute_result"
    }
   ],
   "source": [
    "D"
   ]
  },
  {
   "cell_type": "markdown",
   "id": "e71e1d30",
   "metadata": {},
   "source": [
    "# Operations"
   ]
  },
  {
   "cell_type": "code",
   "execution_count": 25,
   "id": "487adb4f",
   "metadata": {},
   "outputs": [
    {
     "data": {
      "text/plain": [
       "{}"
      ]
     },
     "execution_count": 25,
     "metadata": {},
     "output_type": "execute_result"
    }
   ],
   "source": [
    "D"
   ]
  },
  {
   "cell_type": "code",
   "execution_count": 26,
   "id": "5090b861",
   "metadata": {},
   "outputs": [
    {
     "ename": "NameError",
     "evalue": "name 'D1' is not defined",
     "output_type": "error",
     "traceback": [
      "\u001b[1;31m---------------------------------------------------------------------------\u001b[0m",
      "\u001b[1;31mNameError\u001b[0m                                 Traceback (most recent call last)",
      "\u001b[1;32m~\\AppData\\Local\\Temp/ipykernel_15668/1706430904.py\u001b[0m in \u001b[0;36m<module>\u001b[1;34m\u001b[0m\n\u001b[1;32m----> 1\u001b[1;33m \u001b[0mD1\u001b[0m\u001b[1;33m\u001b[0m\u001b[1;33m\u001b[0m\u001b[0m\n\u001b[0m",
      "\u001b[1;31mNameError\u001b[0m: name 'D1' is not defined"
     ]
    }
   ],
   "source": [
    "D1"
   ]
  },
  {
   "cell_type": "code",
   "execution_count": 27,
   "id": "fc1e6b43",
   "metadata": {},
   "outputs": [
    {
     "ename": "NameError",
     "evalue": "name 'D1' is not defined",
     "output_type": "error",
     "traceback": [
      "\u001b[1;31m---------------------------------------------------------------------------\u001b[0m",
      "\u001b[1;31mNameError\u001b[0m                                 Traceback (most recent call last)",
      "\u001b[1;32m~\\AppData\\Local\\Temp/ipykernel_15668/768186827.py\u001b[0m in \u001b[0;36m<module>\u001b[1;34m\u001b[0m\n\u001b[1;32m----> 1\u001b[1;33m \u001b[0mD\u001b[0m\u001b[1;33m+\u001b[0m\u001b[0mD1\u001b[0m \u001b[1;31m# Doesn't support Addition Operation\u001b[0m\u001b[1;33m\u001b[0m\u001b[1;33m\u001b[0m\u001b[0m\n\u001b[0m",
      "\u001b[1;31mNameError\u001b[0m: name 'D1' is not defined"
     ]
    }
   ],
   "source": [
    "D+D1 # Doesn't support Addition Operation"
   ]
  },
  {
   "cell_type": "code",
   "execution_count": 28,
   "id": "1af9a4db",
   "metadata": {},
   "outputs": [
    {
     "ename": "NameError",
     "evalue": "name 'D1' is not defined",
     "output_type": "error",
     "traceback": [
      "\u001b[1;31m---------------------------------------------------------------------------\u001b[0m",
      "\u001b[1;31mNameError\u001b[0m                                 Traceback (most recent call last)",
      "\u001b[1;32m~\\AppData\\Local\\Temp/ipykernel_15668/1215013268.py\u001b[0m in \u001b[0;36m<module>\u001b[1;34m\u001b[0m\n\u001b[1;32m----> 1\u001b[1;33m \u001b[0mD\u001b[0m\u001b[1;33m*\u001b[0m\u001b[0mD1\u001b[0m \u001b[1;31m# Doesn't support Multiplication Operation\u001b[0m\u001b[1;33m\u001b[0m\u001b[1;33m\u001b[0m\u001b[0m\n\u001b[0m",
      "\u001b[1;31mNameError\u001b[0m: name 'D1' is not defined"
     ]
    }
   ],
   "source": [
    "D*D1 # Doesn't support Multiplication Operation"
   ]
  },
  {
   "cell_type": "code",
   "execution_count": 29,
   "id": "249b638d",
   "metadata": {},
   "outputs": [],
   "source": [
    "for i in D:\n",
    "    print('Keys:',i)"
   ]
  },
  {
   "cell_type": "code",
   "execution_count": 30,
   "id": "d95003b8",
   "metadata": {},
   "outputs": [],
   "source": [
    "for i in D:\n",
    "    print('Values: ', D[i])"
   ]
  },
  {
   "cell_type": "code",
   "execution_count": 31,
   "id": "431e35ab",
   "metadata": {},
   "outputs": [],
   "source": [
    "for i in D:\n",
    "    print(\"Key:\",i,'and', \"Value:\", D[i])"
   ]
  },
  {
   "cell_type": "code",
   "execution_count": 32,
   "id": "d947b761",
   "metadata": {},
   "outputs": [
    {
     "data": {
      "text/plain": [
       "{}"
      ]
     },
     "execution_count": 32,
     "metadata": {},
     "output_type": "execute_result"
    }
   ],
   "source": [
    "D"
   ]
  },
  {
   "cell_type": "code",
   "execution_count": 33,
   "id": "96bf6991",
   "metadata": {},
   "outputs": [
    {
     "data": {
      "text/plain": [
       "False"
      ]
     },
     "execution_count": 33,
     "metadata": {},
     "output_type": "execute_result"
    }
   ],
   "source": [
    "\"Vamshi\" in D"
   ]
  },
  {
   "cell_type": "code",
   "execution_count": 34,
   "id": "d4851ab4",
   "metadata": {},
   "outputs": [
    {
     "data": {
      "text/plain": [
       "False"
      ]
     },
     "execution_count": 34,
     "metadata": {},
     "output_type": "execute_result"
    }
   ],
   "source": [
    "'Name' in D"
   ]
  },
  {
   "cell_type": "code",
   "execution_count": 35,
   "id": "38abf2b9",
   "metadata": {},
   "outputs": [
    {
     "data": {
      "text/plain": [
       "False"
      ]
     },
     "execution_count": 35,
     "metadata": {},
     "output_type": "execute_result"
    }
   ],
   "source": [
    "\"Vamshi\" in D.values()"
   ]
  },
  {
   "cell_type": "markdown",
   "id": "716ee892",
   "metadata": {},
   "source": [
    "# Other Operations"
   ]
  },
  {
   "cell_type": "code",
   "execution_count": 36,
   "id": "0b3322da",
   "metadata": {},
   "outputs": [
    {
     "data": {
      "text/plain": [
       "{}"
      ]
     },
     "execution_count": 36,
     "metadata": {},
     "output_type": "execute_result"
    }
   ],
   "source": [
    "D"
   ]
  },
  {
   "cell_type": "code",
   "execution_count": 37,
   "id": "1279776c",
   "metadata": {},
   "outputs": [
    {
     "data": {
      "text/plain": [
       "0"
      ]
     },
     "execution_count": 37,
     "metadata": {},
     "output_type": "execute_result"
    }
   ],
   "source": [
    "len(D)"
   ]
  },
  {
   "cell_type": "code",
   "execution_count": 38,
   "id": "e746bb75",
   "metadata": {},
   "outputs": [
    {
     "ename": "ValueError",
     "evalue": "min() arg is an empty sequence",
     "output_type": "error",
     "traceback": [
      "\u001b[1;31m---------------------------------------------------------------------------\u001b[0m",
      "\u001b[1;31mValueError\u001b[0m                                Traceback (most recent call last)",
      "\u001b[1;32m~\\AppData\\Local\\Temp/ipykernel_15668/3527921483.py\u001b[0m in \u001b[0;36m<module>\u001b[1;34m\u001b[0m\n\u001b[1;32m----> 1\u001b[1;33m \u001b[0mmin\u001b[0m\u001b[1;33m(\u001b[0m\u001b[0mD\u001b[0m\u001b[1;33m)\u001b[0m\u001b[1;33m\u001b[0m\u001b[1;33m\u001b[0m\u001b[0m\n\u001b[0m",
      "\u001b[1;31mValueError\u001b[0m: min() arg is an empty sequence"
     ]
    }
   ],
   "source": [
    "min(D)"
   ]
  },
  {
   "cell_type": "code",
   "execution_count": 39,
   "id": "90e0b529",
   "metadata": {},
   "outputs": [
    {
     "ename": "ValueError",
     "evalue": "max() arg is an empty sequence",
     "output_type": "error",
     "traceback": [
      "\u001b[1;31m---------------------------------------------------------------------------\u001b[0m",
      "\u001b[1;31mValueError\u001b[0m                                Traceback (most recent call last)",
      "\u001b[1;32m~\\AppData\\Local\\Temp/ipykernel_15668/3203123068.py\u001b[0m in \u001b[0;36m<module>\u001b[1;34m\u001b[0m\n\u001b[1;32m----> 1\u001b[1;33m \u001b[0mmax\u001b[0m\u001b[1;33m(\u001b[0m\u001b[0mD\u001b[0m\u001b[1;33m)\u001b[0m\u001b[1;33m\u001b[0m\u001b[1;33m\u001b[0m\u001b[0m\n\u001b[0m",
      "\u001b[1;31mValueError\u001b[0m: max() arg is an empty sequence"
     ]
    }
   ],
   "source": [
    "max(D)"
   ]
  },
  {
   "cell_type": "code",
   "execution_count": 40,
   "id": "af455ac1",
   "metadata": {},
   "outputs": [
    {
     "data": {
      "text/plain": [
       "[]"
      ]
     },
     "execution_count": 40,
     "metadata": {},
     "output_type": "execute_result"
    }
   ],
   "source": [
    "sorted(D)"
   ]
  },
  {
   "cell_type": "code",
   "execution_count": 41,
   "id": "a67d88e2",
   "metadata": {},
   "outputs": [
    {
     "data": {
      "text/plain": [
       "[]"
      ]
     },
     "execution_count": 41,
     "metadata": {},
     "output_type": "execute_result"
    }
   ],
   "source": [
    "sorted(D,reverse=True)"
   ]
  },
  {
   "cell_type": "code",
   "execution_count": 42,
   "id": "2892e6bc",
   "metadata": {},
   "outputs": [
    {
     "data": {
      "text/plain": [
       "dict_keys([])"
      ]
     },
     "execution_count": 42,
     "metadata": {},
     "output_type": "execute_result"
    }
   ],
   "source": [
    "D.keys()"
   ]
  },
  {
   "cell_type": "code",
   "execution_count": 43,
   "id": "37a9fead",
   "metadata": {},
   "outputs": [
    {
     "data": {
      "text/plain": [
       "dict_values([])"
      ]
     },
     "execution_count": 43,
     "metadata": {},
     "output_type": "execute_result"
    }
   ],
   "source": [
    "D.values()"
   ]
  },
  {
   "cell_type": "markdown",
   "id": "ef6ab085",
   "metadata": {},
   "source": [
    "# Variable Referencing"
   ]
  },
  {
   "cell_type": "code",
   "execution_count": 44,
   "id": "a9b5734b",
   "metadata": {},
   "outputs": [
    {
     "ename": "NameError",
     "evalue": "name 'a' is not defined",
     "output_type": "error",
     "traceback": [
      "\u001b[1;31m---------------------------------------------------------------------------\u001b[0m",
      "\u001b[1;31mNameError\u001b[0m                                 Traceback (most recent call last)",
      "\u001b[1;32m~\\AppData\\Local\\Temp/ipykernel_15668/1804447767.py\u001b[0m in \u001b[0;36m<module>\u001b[1;34m\u001b[0m\n\u001b[1;32m----> 1\u001b[1;33m \u001b[0ma\u001b[0m\u001b[1;33m\u001b[0m\u001b[1;33m\u001b[0m\u001b[0m\n\u001b[0m",
      "\u001b[1;31mNameError\u001b[0m: name 'a' is not defined"
     ]
    }
   ],
   "source": [
    "a "
   ]
  },
  {
   "cell_type": "code",
   "execution_count": 45,
   "id": "c41af2c1",
   "metadata": {},
   "outputs": [],
   "source": [
    "a = 4"
   ]
  },
  {
   "cell_type": "code",
   "execution_count": 46,
   "id": "4bd935c4",
   "metadata": {},
   "outputs": [
    {
     "data": {
      "text/plain": [
       "2295410289040"
      ]
     },
     "execution_count": 46,
     "metadata": {},
     "output_type": "execute_result"
    }
   ],
   "source": [
    "id(a)"
   ]
  },
  {
   "cell_type": "code",
   "execution_count": 47,
   "id": "3fbbf908",
   "metadata": {},
   "outputs": [
    {
     "data": {
      "text/plain": [
       "'0x216711d6990'"
      ]
     },
     "execution_count": 47,
     "metadata": {},
     "output_type": "execute_result"
    }
   ],
   "source": [
    "hex(id(a))"
   ]
  },
  {
   "cell_type": "code",
   "execution_count": 48,
   "id": "8beda9cd",
   "metadata": {},
   "outputs": [
    {
     "data": {
      "text/plain": [
       "2295410289040"
      ]
     },
     "execution_count": 48,
     "metadata": {},
     "output_type": "execute_result"
    }
   ],
   "source": [
    "id(4)"
   ]
  },
  {
   "cell_type": "code",
   "execution_count": 49,
   "id": "280217e5",
   "metadata": {},
   "outputs": [
    {
     "data": {
      "text/plain": [
       "'0x216711d6990'"
      ]
     },
     "execution_count": 49,
     "metadata": {},
     "output_type": "execute_result"
    }
   ],
   "source": [
    "hex(id(4))"
   ]
  },
  {
   "cell_type": "code",
   "execution_count": 50,
   "id": "27be928b",
   "metadata": {},
   "outputs": [
    {
     "data": {
      "text/plain": [
       "True"
      ]
     },
     "execution_count": 50,
     "metadata": {},
     "output_type": "execute_result"
    }
   ],
   "source": [
    "hex(id(a)) == hex(id(4))"
   ]
  },
  {
   "cell_type": "code",
   "execution_count": 51,
   "id": "02712814",
   "metadata": {},
   "outputs": [
    {
     "data": {
      "text/plain": [
       "True"
      ]
     },
     "execution_count": 51,
     "metadata": {},
     "output_type": "execute_result"
    }
   ],
   "source": [
    "id(a) == id(4)"
   ]
  },
  {
   "cell_type": "markdown",
   "id": "779c4b93",
   "metadata": {},
   "source": [
    "# Aliasing"
   ]
  },
  {
   "cell_type": "code",
   "execution_count": 52,
   "id": "bf7014fc",
   "metadata": {},
   "outputs": [],
   "source": [
    "a = 5"
   ]
  },
  {
   "cell_type": "code",
   "execution_count": 53,
   "id": "ef8abcb4",
   "metadata": {},
   "outputs": [],
   "source": [
    "b = a"
   ]
  },
  {
   "cell_type": "code",
   "execution_count": 54,
   "id": "b3b99699",
   "metadata": {},
   "outputs": [
    {
     "data": {
      "text/plain": [
       "2295410289072"
      ]
     },
     "execution_count": 54,
     "metadata": {},
     "output_type": "execute_result"
    }
   ],
   "source": [
    "id(a)"
   ]
  },
  {
   "cell_type": "code",
   "execution_count": 55,
   "id": "1537cdd6",
   "metadata": {},
   "outputs": [
    {
     "data": {
      "text/plain": [
       "2295410289072"
      ]
     },
     "execution_count": 55,
     "metadata": {},
     "output_type": "execute_result"
    }
   ],
   "source": [
    "id(b)"
   ]
  },
  {
   "cell_type": "code",
   "execution_count": 56,
   "id": "314849fc",
   "metadata": {},
   "outputs": [],
   "source": [
    "del a"
   ]
  },
  {
   "cell_type": "code",
   "execution_count": 57,
   "id": "4624ba52",
   "metadata": {},
   "outputs": [
    {
     "data": {
      "text/plain": [
       "5"
      ]
     },
     "execution_count": 57,
     "metadata": {},
     "output_type": "execute_result"
    }
   ],
   "source": [
    "b"
   ]
  },
  {
   "cell_type": "code",
   "execution_count": null,
   "id": "11439eed",
   "metadata": {},
   "outputs": [],
   "source": []
  },
  {
   "cell_type": "markdown",
   "id": "e1d9058b",
   "metadata": {},
   "source": [
    "# Reference Counting"
   ]
  },
  {
   "cell_type": "code",
   "execution_count": 58,
   "id": "ac1813a9",
   "metadata": {},
   "outputs": [],
   "source": [
    "import sys"
   ]
  },
  {
   "cell_type": "code",
   "execution_count": 59,
   "id": "427de61f",
   "metadata": {},
   "outputs": [],
   "source": [
    "a = 'corona'"
   ]
  },
  {
   "cell_type": "code",
   "execution_count": 60,
   "id": "bce340fe",
   "metadata": {},
   "outputs": [],
   "source": [
    "b = a"
   ]
  },
  {
   "cell_type": "code",
   "execution_count": 61,
   "id": "7400c535",
   "metadata": {},
   "outputs": [],
   "source": [
    "c = b"
   ]
  },
  {
   "cell_type": "code",
   "execution_count": 62,
   "id": "267c2eaf",
   "metadata": {},
   "outputs": [
    {
     "data": {
      "text/plain": [
       "2295492081968"
      ]
     },
     "execution_count": 62,
     "metadata": {},
     "output_type": "execute_result"
    }
   ],
   "source": [
    "id(a)"
   ]
  },
  {
   "cell_type": "code",
   "execution_count": 63,
   "id": "a6cb91cc",
   "metadata": {},
   "outputs": [
    {
     "data": {
      "text/plain": [
       "2295492081968"
      ]
     },
     "execution_count": 63,
     "metadata": {},
     "output_type": "execute_result"
    }
   ],
   "source": [
    "id(b)"
   ]
  },
  {
   "cell_type": "code",
   "execution_count": 64,
   "id": "b6c0fa39",
   "metadata": {},
   "outputs": [
    {
     "data": {
      "text/plain": [
       "2295492081968"
      ]
     },
     "execution_count": 64,
     "metadata": {},
     "output_type": "execute_result"
    }
   ],
   "source": [
    "id(c)"
   ]
  },
  {
   "cell_type": "code",
   "execution_count": 65,
   "id": "fe707c69",
   "metadata": {},
   "outputs": [
    {
     "data": {
      "text/plain": [
       "4"
      ]
     },
     "execution_count": 65,
     "metadata": {},
     "output_type": "execute_result"
    }
   ],
   "source": [
    "sys.getrefcount(a)"
   ]
  },
  {
   "cell_type": "markdown",
   "id": "45243183",
   "metadata": {},
   "source": [
    "# Garbage Collection"
   ]
  },
  {
   "cell_type": "code",
   "execution_count": 66,
   "id": "c3ccde42",
   "metadata": {},
   "outputs": [],
   "source": [
    "a = 2"
   ]
  },
  {
   "cell_type": "code",
   "execution_count": 67,
   "id": "b40f4d5f",
   "metadata": {},
   "outputs": [],
   "source": [
    "b = a"
   ]
  },
  {
   "cell_type": "code",
   "execution_count": 68,
   "id": "b633c3d9",
   "metadata": {},
   "outputs": [],
   "source": [
    "c = b"
   ]
  },
  {
   "cell_type": "code",
   "execution_count": 69,
   "id": "061a5d15",
   "metadata": {},
   "outputs": [
    {
     "data": {
      "text/plain": [
       "1669"
      ]
     },
     "execution_count": 69,
     "metadata": {},
     "output_type": "execute_result"
    }
   ],
   "source": [
    "sys.getrefcount(a)"
   ]
  },
  {
   "cell_type": "code",
   "execution_count": 70,
   "id": "c16d001c",
   "metadata": {},
   "outputs": [],
   "source": [
    "d = 865\n",
    "e = d\n",
    "f = e"
   ]
  },
  {
   "cell_type": "code",
   "execution_count": 71,
   "id": "250f265c",
   "metadata": {},
   "outputs": [
    {
     "data": {
      "text/plain": [
       "4"
      ]
     },
     "execution_count": 71,
     "metadata": {},
     "output_type": "execute_result"
    }
   ],
   "source": [
    "sys.getrefcount(d)"
   ]
  },
  {
   "cell_type": "code",
   "execution_count": 72,
   "id": "feda4a1a",
   "metadata": {},
   "outputs": [],
   "source": [
    "a = -5"
   ]
  },
  {
   "cell_type": "code",
   "execution_count": 73,
   "id": "0968905a",
   "metadata": {},
   "outputs": [],
   "source": [
    "b = -5"
   ]
  },
  {
   "cell_type": "code",
   "execution_count": 74,
   "id": "ca0a966e",
   "metadata": {},
   "outputs": [
    {
     "data": {
      "text/plain": [
       "2295410288752"
      ]
     },
     "execution_count": 74,
     "metadata": {},
     "output_type": "execute_result"
    }
   ],
   "source": [
    "id(a)"
   ]
  },
  {
   "cell_type": "code",
   "execution_count": 75,
   "id": "79479bf4",
   "metadata": {},
   "outputs": [
    {
     "data": {
      "text/plain": [
       "2295410288752"
      ]
     },
     "execution_count": 75,
     "metadata": {},
     "output_type": "execute_result"
    }
   ],
   "source": [
    "id(b)"
   ]
  },
  {
   "cell_type": "code",
   "execution_count": 76,
   "id": "0a7f96bd",
   "metadata": {},
   "outputs": [],
   "source": [
    "a = -6"
   ]
  },
  {
   "cell_type": "code",
   "execution_count": 77,
   "id": "10e133ee",
   "metadata": {},
   "outputs": [],
   "source": [
    "b = -6"
   ]
  },
  {
   "cell_type": "code",
   "execution_count": 78,
   "id": "2f70ac1e",
   "metadata": {},
   "outputs": [
    {
     "data": {
      "text/plain": [
       "2295492104880"
      ]
     },
     "execution_count": 78,
     "metadata": {},
     "output_type": "execute_result"
    }
   ],
   "source": [
    "id(a)"
   ]
  },
  {
   "cell_type": "code",
   "execution_count": 79,
   "id": "3eef95dc",
   "metadata": {},
   "outputs": [
    {
     "data": {
      "text/plain": [
       "2295492105008"
      ]
     },
     "execution_count": 79,
     "metadata": {},
     "output_type": "execute_result"
    }
   ],
   "source": [
    "id(b)"
   ]
  },
  {
   "cell_type": "markdown",
   "id": "dbf3e1bd",
   "metadata": {},
   "source": [
    "## -5 to 256 - Python System Optimization"
   ]
  },
  {
   "cell_type": "markdown",
   "id": "d36b47ed",
   "metadata": {},
   "source": [
    "Because those are commonly used numbers"
   ]
  },
  {
   "cell_type": "code",
   "execution_count": 80,
   "id": "935af5a6",
   "metadata": {},
   "outputs": [],
   "source": [
    "a = 'Haldia'"
   ]
  },
  {
   "cell_type": "code",
   "execution_count": 81,
   "id": "d03f8d00",
   "metadata": {},
   "outputs": [],
   "source": [
    "b = 'Haldia'"
   ]
  },
  {
   "cell_type": "code",
   "execution_count": 82,
   "id": "34aa6d3c",
   "metadata": {},
   "outputs": [
    {
     "data": {
      "text/plain": [
       "2295492096880"
      ]
     },
     "execution_count": 82,
     "metadata": {},
     "output_type": "execute_result"
    }
   ],
   "source": [
    "id(a)"
   ]
  },
  {
   "cell_type": "code",
   "execution_count": 83,
   "id": "7fe80584",
   "metadata": {},
   "outputs": [
    {
     "data": {
      "text/plain": [
       "2295492096880"
      ]
     },
     "execution_count": 83,
     "metadata": {},
     "output_type": "execute_result"
    }
   ],
   "source": [
    "id(b)"
   ]
  },
  {
   "cell_type": "code",
   "execution_count": 84,
   "id": "ae21ab88",
   "metadata": {},
   "outputs": [],
   "source": [
    "a = 'Haldia inst tech'"
   ]
  },
  {
   "cell_type": "code",
   "execution_count": 85,
   "id": "15c90d0a",
   "metadata": {},
   "outputs": [],
   "source": [
    "b = 'Haldia inst tech'"
   ]
  },
  {
   "cell_type": "code",
   "execution_count": 86,
   "id": "6549d175",
   "metadata": {},
   "outputs": [
    {
     "data": {
      "text/plain": [
       "2295492101824"
      ]
     },
     "execution_count": 86,
     "metadata": {},
     "output_type": "execute_result"
    }
   ],
   "source": [
    "id(a)"
   ]
  },
  {
   "cell_type": "code",
   "execution_count": 87,
   "id": "814123a9",
   "metadata": {},
   "outputs": [
    {
     "data": {
      "text/plain": [
       "2295492101024"
      ]
     },
     "execution_count": 87,
     "metadata": {},
     "output_type": "execute_result"
    }
   ],
   "source": [
    "id(b)"
   ]
  },
  {
   "cell_type": "code",
   "execution_count": 88,
   "id": "98d7f6c7",
   "metadata": {},
   "outputs": [],
   "source": [
    "a = 'Haldia_inst_tech'"
   ]
  },
  {
   "cell_type": "code",
   "execution_count": 89,
   "id": "abd001c8",
   "metadata": {},
   "outputs": [],
   "source": [
    "b = \"Haldia_inst_tech\""
   ]
  },
  {
   "cell_type": "code",
   "execution_count": 90,
   "id": "0a751758",
   "metadata": {},
   "outputs": [
    {
     "data": {
      "text/plain": [
       "2295492102944"
      ]
     },
     "execution_count": 90,
     "metadata": {},
     "output_type": "execute_result"
    }
   ],
   "source": [
    "id(a)"
   ]
  },
  {
   "cell_type": "code",
   "execution_count": 91,
   "id": "f4b38996",
   "metadata": {},
   "outputs": [
    {
     "data": {
      "text/plain": [
       "2295492102944"
      ]
     },
     "execution_count": 91,
     "metadata": {},
     "output_type": "execute_result"
    }
   ],
   "source": [
    "id(b)"
   ]
  },
  {
   "cell_type": "markdown",
   "id": "eb0ff30d",
   "metadata": {},
   "source": [
    "# Python's Weird Behavior\n",
    "\n",
    "1. sys.getrefcount anamoly\n",
    "\n",
    "\n",
    "2. -5 to 256\n",
    "\n",
    "\n",
    "3. Strings "
   ]
  },
  {
   "cell_type": "markdown",
   "id": "5210266b",
   "metadata": {},
   "source": [
    "# Mutability"
   ]
  },
  {
   "cell_type": "markdown",
   "id": "0a020704",
   "metadata": {},
   "source": [
    "Mutability refers to the ability to change or edit data in it's memory location"
   ]
  },
  {
   "cell_type": "markdown",
   "id": "6186cd42",
   "metadata": {},
   "source": [
    "Mutability depends on the data type"
   ]
  },
  {
   "attachments": {
    "image.png": {
     "image/png": "[encoded data removed]"
    }
   },
   "cell_type": "markdown",
   "id": "e40bd08e",
   "metadata": {},
   "source": [
    "![image.png](attachment:image.png)"
   ]
  },
  {
   "cell_type": "code",
   "execution_count": 104,
   "id": "a69c9370",
   "metadata": {},
   "outputs": [],
   "source": [
    "T = (1,2,3)"
   ]
  },
  {
   "cell_type": "code",
   "execution_count": 105,
   "id": "b8e03513",
   "metadata": {},
   "outputs": [
    {
     "data": {
      "text/plain": [
       "2295485971712"
      ]
     },
     "execution_count": 105,
     "metadata": {},
     "output_type": "execute_result"
    }
   ],
   "source": [
    "id(T)"
   ]
  },
  {
   "cell_type": "code",
   "execution_count": 106,
   "id": "d1d37c9e",
   "metadata": {},
   "outputs": [],
   "source": [
    "T = T + (4,5)"
   ]
  },
  {
   "cell_type": "code",
   "execution_count": 107,
   "id": "04b1ec62",
   "metadata": {},
   "outputs": [
    {
     "data": {
      "text/plain": [
       "(1, 2, 3, 4, 5)"
      ]
     },
     "execution_count": 107,
     "metadata": {},
     "output_type": "execute_result"
    }
   ],
   "source": [
    "T"
   ]
  },
  {
   "cell_type": "code",
   "execution_count": 108,
   "id": "42137d66",
   "metadata": {},
   "outputs": [
    {
     "data": {
      "text/plain": [
       "2295492117424"
      ]
     },
     "execution_count": 108,
     "metadata": {},
     "output_type": "execute_result"
    }
   ],
   "source": [
    "id(T)"
   ]
  },
  {
   "cell_type": "code",
   "execution_count": 110,
   "id": "d9802332",
   "metadata": {},
   "outputs": [
    {
     "data": {
      "text/plain": [
       "8"
      ]
     },
     "execution_count": 110,
     "metadata": {},
     "output_type": "execute_result"
    }
   ],
   "source": [
    "sys.getrefcount(T)"
   ]
  },
  {
   "cell_type": "code",
   "execution_count": 116,
   "id": "21175ae3",
   "metadata": {},
   "outputs": [],
   "source": [
    "L = [1,2,3]"
   ]
  },
  {
   "cell_type": "code",
   "execution_count": 117,
   "id": "9c0361a6",
   "metadata": {},
   "outputs": [
    {
     "data": {
      "text/plain": [
       "2295492129280"
      ]
     },
     "execution_count": 117,
     "metadata": {},
     "output_type": "execute_result"
    }
   ],
   "source": [
    "id(L)"
   ]
  },
  {
   "cell_type": "code",
   "execution_count": 118,
   "id": "9b3f5e38",
   "metadata": {},
   "outputs": [],
   "source": [
    "L.append(4)"
   ]
  },
  {
   "cell_type": "code",
   "execution_count": 119,
   "id": "d7e9facb",
   "metadata": {},
   "outputs": [
    {
     "data": {
      "text/plain": [
       "[1, 2, 3, 4]"
      ]
     },
     "execution_count": 119,
     "metadata": {},
     "output_type": "execute_result"
    }
   ],
   "source": [
    "L"
   ]
  },
  {
   "cell_type": "code",
   "execution_count": 120,
   "id": "713fc644",
   "metadata": {},
   "outputs": [
    {
     "data": {
      "text/plain": [
       "2295492129280"
      ]
     },
     "execution_count": 120,
     "metadata": {},
     "output_type": "execute_result"
    }
   ],
   "source": [
    "id(L)"
   ]
  },
  {
   "cell_type": "code",
   "execution_count": 121,
   "id": "7e0cd750",
   "metadata": {},
   "outputs": [
    {
     "data": {
      "text/plain": [
       "[1, 2, 3, 4]"
      ]
     },
     "execution_count": 121,
     "metadata": {},
     "output_type": "execute_result"
    }
   ],
   "source": [
    "L"
   ]
  },
  {
   "cell_type": "code",
   "execution_count": null,
   "id": "fb3cbbd7",
   "metadata": {},
   "outputs": [],
   "source": []
  },
  {
   "cell_type": "markdown",
   "id": "a2a04d23",
   "metadata": {},
   "source": [
    "# Side Effects of Mutation"
   ]
  },
  {
   "cell_type": "code",
   "execution_count": 122,
   "id": "eb5c6cc9",
   "metadata": {},
   "outputs": [],
   "source": [
    "L1 = L"
   ]
  },
  {
   "cell_type": "code",
   "execution_count": 123,
   "id": "34596c0e",
   "metadata": {},
   "outputs": [],
   "source": [
    "L1.append(5)"
   ]
  },
  {
   "cell_type": "code",
   "execution_count": 124,
   "id": "6acc96f9",
   "metadata": {},
   "outputs": [
    {
     "data": {
      "text/plain": [
       "[1, 2, 3, 4, 5]"
      ]
     },
     "execution_count": 124,
     "metadata": {},
     "output_type": "execute_result"
    }
   ],
   "source": [
    "L1"
   ]
  },
  {
   "cell_type": "code",
   "execution_count": 125,
   "id": "f40d4df6",
   "metadata": {},
   "outputs": [
    {
     "data": {
      "text/plain": [
       "[1, 2, 3, 4, 5]"
      ]
     },
     "execution_count": 125,
     "metadata": {},
     "output_type": "execute_result"
    }
   ],
   "source": [
    "L"
   ]
  },
  {
   "cell_type": "markdown",
   "id": "ac9ccdbd",
   "metadata": {},
   "source": [
    "### Cloning"
   ]
  },
  {
   "cell_type": "code",
   "execution_count": 126,
   "id": "427502ba",
   "metadata": {},
   "outputs": [],
   "source": [
    "L2 = L.copy()"
   ]
  },
  {
   "cell_type": "code",
   "execution_count": 127,
   "id": "653c142f",
   "metadata": {},
   "outputs": [
    {
     "data": {
      "text/plain": [
       "[1, 2, 3, 4, 5]"
      ]
     },
     "execution_count": 127,
     "metadata": {},
     "output_type": "execute_result"
    }
   ],
   "source": [
    "L2"
   ]
  },
  {
   "cell_type": "code",
   "execution_count": 128,
   "id": "490c22d7",
   "metadata": {},
   "outputs": [],
   "source": [
    "L2.append(6)"
   ]
  },
  {
   "cell_type": "code",
   "execution_count": 130,
   "id": "d6bc9697",
   "metadata": {},
   "outputs": [
    {
     "data": {
      "text/plain": [
       "[1, 2, 3, 4, 5, 6]"
      ]
     },
     "execution_count": 130,
     "metadata": {},
     "output_type": "execute_result"
    }
   ],
   "source": [
    "L2"
   ]
  },
  {
   "cell_type": "code",
   "execution_count": 131,
   "id": "cff101c7",
   "metadata": {},
   "outputs": [
    {
     "data": {
      "text/plain": [
       "[1, 2, 3, 4, 5]"
      ]
     },
     "execution_count": 131,
     "metadata": {},
     "output_type": "execute_result"
    }
   ],
   "source": [
    "L"
   ]
  },
  {
   "cell_type": "code",
   "execution_count": 132,
   "id": "fa4b2ff0",
   "metadata": {},
   "outputs": [
    {
     "data": {
      "text/plain": [
       "2295492129280"
      ]
     },
     "execution_count": 132,
     "metadata": {},
     "output_type": "execute_result"
    }
   ],
   "source": [
    "id(L)"
   ]
  },
  {
   "cell_type": "code",
   "execution_count": 133,
   "id": "2e5f1cd2",
   "metadata": {},
   "outputs": [],
   "source": [
    "L3 = L.copy()"
   ]
  },
  {
   "cell_type": "code",
   "execution_count": 134,
   "id": "0ddb454e",
   "metadata": {},
   "outputs": [
    {
     "data": {
      "text/plain": [
       "2295492130176"
      ]
     },
     "execution_count": 134,
     "metadata": {},
     "output_type": "execute_result"
    }
   ],
   "source": [
    "id(L3)"
   ]
  },
  {
   "cell_type": "code",
   "execution_count": 135,
   "id": "76e23fbc",
   "metadata": {},
   "outputs": [],
   "source": [
    "a = [1,2,3,[4,5]]"
   ]
  },
  {
   "cell_type": "code",
   "execution_count": 138,
   "id": "53c0c94a",
   "metadata": {},
   "outputs": [],
   "source": [
    "a[-1][-1] = 500"
   ]
  },
  {
   "cell_type": "code",
   "execution_count": 139,
   "id": "a3f54ad9",
   "metadata": {},
   "outputs": [
    {
     "data": {
      "text/plain": [
       "[1, 2, 3, [4, 500]]"
      ]
     },
     "execution_count": 139,
     "metadata": {},
     "output_type": "execute_result"
    }
   ],
   "source": [
    "a"
   ]
  },
  {
   "cell_type": "code",
   "execution_count": 140,
   "id": "05983c65",
   "metadata": {},
   "outputs": [],
   "source": [
    "b = [1,2,3,(4,5)]"
   ]
  },
  {
   "cell_type": "code",
   "execution_count": 141,
   "id": "959d29d5",
   "metadata": {},
   "outputs": [
    {
     "ename": "TypeError",
     "evalue": "'tuple' object does not support item assignment",
     "output_type": "error",
     "traceback": [
      "\u001b[1;31m---------------------------------------------------------------------------\u001b[0m",
      "\u001b[1;31mTypeError\u001b[0m                                 Traceback (most recent call last)",
      "\u001b[1;32m~\\AppData\\Local\\Temp/ipykernel_15668/2209762678.py\u001b[0m in \u001b[0;36m<module>\u001b[1;34m\u001b[0m\n\u001b[1;32m----> 1\u001b[1;33m \u001b[0mb\u001b[0m\u001b[1;33m[\u001b[0m\u001b[1;33m-\u001b[0m\u001b[1;36m1\u001b[0m\u001b[1;33m]\u001b[0m\u001b[1;33m[\u001b[0m\u001b[1;33m-\u001b[0m\u001b[1;36m1\u001b[0m\u001b[1;33m]\u001b[0m \u001b[1;33m=\u001b[0m \u001b[1;36m500\u001b[0m\u001b[1;33m\u001b[0m\u001b[1;33m\u001b[0m\u001b[0m\n\u001b[0m",
      "\u001b[1;31mTypeError\u001b[0m: 'tuple' object does not support item assignment"
     ]
    }
   ],
   "source": [
    "b[-1][-1] = 500"
   ]
  },
  {
   "cell_type": "code",
   "execution_count": 142,
   "id": "c432abf3",
   "metadata": {},
   "outputs": [],
   "source": [
    "a = [5,6]"
   ]
  },
  {
   "cell_type": "code",
   "execution_count": 143,
   "id": "08acc3c2",
   "metadata": {},
   "outputs": [],
   "source": [
    "b = [7,8]"
   ]
  },
  {
   "cell_type": "code",
   "execution_count": 144,
   "id": "fb120d15",
   "metadata": {},
   "outputs": [],
   "source": [
    "c = (a,b)"
   ]
  },
  {
   "cell_type": "code",
   "execution_count": 145,
   "id": "719d919a",
   "metadata": {},
   "outputs": [
    {
     "data": {
      "text/plain": [
       "([5, 6], [7, 8])"
      ]
     },
     "execution_count": 145,
     "metadata": {},
     "output_type": "execute_result"
    }
   ],
   "source": [
    "c"
   ]
  },
  {
   "cell_type": "code",
   "execution_count": 146,
   "id": "3df61597",
   "metadata": {},
   "outputs": [
    {
     "data": {
      "text/plain": [
       "5"
      ]
     },
     "execution_count": 146,
     "metadata": {},
     "output_type": "execute_result"
    }
   ],
   "source": [
    "c[0][0]"
   ]
  },
  {
   "cell_type": "code",
   "execution_count": 147,
   "id": "5c31b847",
   "metadata": {},
   "outputs": [],
   "source": [
    "c[0][0] = 400"
   ]
  },
  {
   "cell_type": "code",
   "execution_count": 148,
   "id": "9acc7b8c",
   "metadata": {},
   "outputs": [
    {
     "data": {
      "text/plain": [
       "([400, 6], [7, 8])"
      ]
     },
     "execution_count": 148,
     "metadata": {},
     "output_type": "execute_result"
    }
   ],
   "source": [
    "c"
   ]
  },
  {
   "cell_type": "code",
   "execution_count": 152,
   "id": "8c05a4bb",
   "metadata": {},
   "outputs": [],
   "source": [
    "a = [7,8]"
   ]
  },
  {
   "cell_type": "code",
   "execution_count": 153,
   "id": "eeb49837",
   "metadata": {},
   "outputs": [],
   "source": [
    "b = [9,0]"
   ]
  },
  {
   "cell_type": "code",
   "execution_count": 154,
   "id": "aadc4cf4",
   "metadata": {},
   "outputs": [],
   "source": [
    "c = (a,b)"
   ]
  },
  {
   "cell_type": "code",
   "execution_count": 155,
   "id": "3642df05",
   "metadata": {},
   "outputs": [
    {
     "data": {
      "text/plain": [
       "([7, 8], [9, 0])"
      ]
     },
     "execution_count": 155,
     "metadata": {},
     "output_type": "execute_result"
    }
   ],
   "source": [
    "c"
   ]
  },
  {
   "cell_type": "code",
   "execution_count": 156,
   "id": "5d81d20e",
   "metadata": {},
   "outputs": [
    {
     "ename": "TypeError",
     "evalue": "'tuple' object does not support item assignment",
     "output_type": "error",
     "traceback": [
      "\u001b[1;31m---------------------------------------------------------------------------\u001b[0m",
      "\u001b[1;31mTypeError\u001b[0m                                 Traceback (most recent call last)",
      "\u001b[1;32m~\\AppData\\Local\\Temp/ipykernel_15668/1199730251.py\u001b[0m in \u001b[0;36m<module>\u001b[1;34m\u001b[0m\n\u001b[1;32m----> 1\u001b[1;33m \u001b[0mc\u001b[0m\u001b[1;33m[\u001b[0m\u001b[1;36m0\u001b[0m\u001b[1;33m]\u001b[0m \u001b[1;33m=\u001b[0m \u001b[0mc\u001b[0m\u001b[1;33m[\u001b[0m\u001b[1;36m0\u001b[0m\u001b[1;33m]\u001b[0m \u001b[1;33m+\u001b[0m \u001b[1;33m[\u001b[0m\u001b[1;36m4\u001b[0m\u001b[1;33m,\u001b[0m\u001b[1;36m5\u001b[0m\u001b[1;33m]\u001b[0m\u001b[1;33m\u001b[0m\u001b[1;33m\u001b[0m\u001b[0m\n\u001b[0m",
      "\u001b[1;31mTypeError\u001b[0m: 'tuple' object does not support item assignment"
     ]
    }
   ],
   "source": [
    "c[0] = c[0] + [4,5]"
   ]
  },
  {
   "cell_type": "code",
   "execution_count": null,
   "id": "1acccb56",
   "metadata": {},
   "outputs": [],
   "source": []
  }
 ],
 "metadata": {
  "kernelspec": {
   "display_name": "Python 3 (ipykernel)",
   "language": "python",
   "name": "python3"
  },
  "language_info": {
   "codemirror_mode": {
    "name": "ipython",
    "version": 3
   },
   "file_extension": ".py",
   "mimetype": "text/x-python",
   "name": "python",
   "nbconvert_exporter": "python",
   "pygments_lexer": "ipython3",
   "version": "3.9.7"
  }
 },
 "nbformat": 4,
 "nbformat_minor": 5
}
