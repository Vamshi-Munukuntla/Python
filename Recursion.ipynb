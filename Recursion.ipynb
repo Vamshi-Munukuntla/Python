{
 "cells": [
  {
   "cell_type": "code",
   "execution_count": 1,
   "id": "e2c1e846",
   "metadata": {},
   "outputs": [],
   "source": [
    "def multiply(a,b):\n",
    "    \n",
    "    result = 0\n",
    "    for i in range(a):\n",
    "        result = result + b\n",
    "        \n",
    "    return result"
   ]
  },
  {
   "cell_type": "code",
   "execution_count": 2,
   "id": "f6800e12",
   "metadata": {},
   "outputs": [
    {
     "name": "stdout",
     "output_type": "stream",
     "text": [
      "4.09 µs ± 462 ns per loop (mean ± std. dev. of 7 runs, 100000 loops each)\n"
     ]
    }
   ],
   "source": [
    "%timeit multiply(100,79)"
   ]
  },
  {
   "cell_type": "markdown",
   "id": "e69e6e62",
   "metadata": {},
   "source": [
    "# Recursion"
   ]
  },
  {
   "cell_type": "markdown",
   "id": "28dc9b58",
   "metadata": {},
   "source": [
    "In Recursion, first you need to find out the base case and \n",
    "then write the recursion"
   ]
  },
  {
   "cell_type": "code",
   "execution_count": 3,
   "id": "3b69f3d2",
   "metadata": {},
   "outputs": [],
   "source": [
    "def mul(a,b):\n",
    "    \n",
    "    if b == 1:   # Base Case\n",
    "        return a\n",
    "    else:\n",
    "        return a + mul(a,b-1)"
   ]
  },
  {
   "cell_type": "code",
   "execution_count": 4,
   "id": "dcd40c7f",
   "metadata": {},
   "outputs": [
    {
     "name": "stdout",
     "output_type": "stream",
     "text": [
      "13.4 µs ± 2.32 µs per loop (mean ± std. dev. of 7 runs, 100000 loops each)\n"
     ]
    }
   ],
   "source": [
    "%timeit mul(100,79)"
   ]
  },
  {
   "cell_type": "markdown",
   "id": "72369fe3",
   "metadata": {},
   "source": [
    "### Finding the factorial of a number using recursion"
   ]
  },
  {
   "cell_type": "code",
   "execution_count": 5,
   "id": "801b8fe5",
   "metadata": {},
   "outputs": [],
   "source": [
    "def fact(number):\n",
    "    \n",
    "    if number == 1:     # Base case\n",
    "        return number\n",
    "    else:\n",
    "        return number*fact(number-1)"
   ]
  },
  {
   "cell_type": "code",
   "execution_count": 6,
   "id": "59babf35",
   "metadata": {},
   "outputs": [
    {
     "data": {
      "text/plain": [
       "362880"
      ]
     },
     "execution_count": 6,
     "metadata": {},
     "output_type": "execute_result"
    }
   ],
   "source": [
    "fact(9)"
   ]
  },
  {
   "cell_type": "code",
   "execution_count": 7,
   "id": "04e56aee",
   "metadata": {},
   "outputs": [],
   "source": [
    "import math"
   ]
  },
  {
   "cell_type": "code",
   "execution_count": 8,
   "id": "636a1202",
   "metadata": {},
   "outputs": [
    {
     "data": {
      "text/plain": [
       "120"
      ]
     },
     "execution_count": 8,
     "metadata": {},
     "output_type": "execute_result"
    }
   ],
   "source": [
    "math.factorial(5)"
   ]
  },
  {
   "cell_type": "markdown",
   "id": "b5cfa790",
   "metadata": {},
   "source": [
    "### Palindrome using recursion"
   ]
  },
  {
   "cell_type": "code",
   "execution_count": 11,
   "id": "e1f10771",
   "metadata": {},
   "outputs": [
    {
     "name": "stdout",
     "output_type": "stream",
     "text": [
      "\n"
     ]
    }
   ],
   "source": [
    "a = input()"
   ]
  },
  {
   "cell_type": "code",
   "execution_count": 12,
   "id": "3d86f11c",
   "metadata": {},
   "outputs": [],
   "source": [
    "for i in range(len(a)):\n",
    "    a = a.lower()\n",
    "    if a[i] == a[-i-1]:\n",
    "        print(\"it's palindrome\")\n",
    "    else:\n",
    "        print('no it\"s not a palindrome')"
   ]
  },
  {
   "cell_type": "code",
   "execution_count": 13,
   "id": "72bf6b59",
   "metadata": {},
   "outputs": [],
   "source": [
    "def pal(string):\n",
    "    \n",
    "    if len(string) <= 1:\n",
    "        print(\"It's a Palindrome\")\n",
    "    else:\n",
    "        if string[0] == string[-1]:\n",
    "            pal(string[1:-1])\n",
    "        else:\n",
    "            print('Not a palindrome')"
   ]
  },
  {
   "cell_type": "code",
   "execution_count": 14,
   "id": "968b3ef6",
   "metadata": {},
   "outputs": [
    {
     "name": "stdout",
     "output_type": "stream",
     "text": [
      "It's a Palindrome\n"
     ]
    }
   ],
   "source": [
    "pal('madam')"
   ]
  },
  {
   "cell_type": "code",
   "execution_count": 15,
   "id": "b4171710",
   "metadata": {},
   "outputs": [
    {
     "name": "stdout",
     "output_type": "stream",
     "text": [
      "Not a palindrome\n"
     ]
    }
   ],
   "source": [
    "pal('vamshi')"
   ]
  },
  {
   "cell_type": "code",
   "execution_count": 16,
   "id": "c5fba0bc",
   "metadata": {},
   "outputs": [
    {
     "name": "stdout",
     "output_type": "stream",
     "text": [
      "It's a Palindrome\n"
     ]
    }
   ],
   "source": [
    "pal('abba')"
   ]
  },
  {
   "cell_type": "markdown",
   "id": "f74c9996",
   "metadata": {},
   "source": [
    "### Fibonacci Series using Recursion"
   ]
  },
  {
   "cell_type": "code",
   "execution_count": 17,
   "id": "b6a2e9d3",
   "metadata": {},
   "outputs": [],
   "source": [
    "def fib(month):\n",
    "    \n",
    "    if month == 0 or month == 1:\n",
    "        return 1\n",
    "    else:\n",
    "        return fib(month-1)+fib(month-2)"
   ]
  },
  {
   "cell_type": "code",
   "execution_count": 18,
   "id": "c3982c98",
   "metadata": {},
   "outputs": [
    {
     "data": {
      "text/plain": [
       "233"
      ]
     },
     "execution_count": 18,
     "metadata": {},
     "output_type": "execute_result"
    }
   ],
   "source": [
    "fib(12)"
   ]
  },
  {
   "cell_type": "code",
   "execution_count": null,
   "id": "8a612a61",
   "metadata": {},
   "outputs": [],
   "source": []
  },
  {
   "cell_type": "code",
   "execution_count": null,
   "id": "3d21ca09",
   "metadata": {},
   "outputs": [],
   "source": []
  },
  {
   "cell_type": "code",
   "execution_count": null,
   "id": "04d136ae",
   "metadata": {},
   "outputs": [],
   "source": []
  },
  {
   "cell_type": "code",
   "execution_count": null,
   "id": "1aaa78f7",
   "metadata": {},
   "outputs": [],
   "source": []
  },
  {
   "cell_type": "code",
   "execution_count": null,
   "id": "1abbde08",
   "metadata": {},
   "outputs": [],
   "source": []
  },
  {
   "cell_type": "code",
   "execution_count": null,
   "id": "6f33c120",
   "metadata": {},
   "outputs": [],
   "source": []
  },
  {
   "cell_type": "code",
   "execution_count": null,
   "id": "1a9a5cf7",
   "metadata": {},
   "outputs": [],
   "source": []
  },
  {
   "cell_type": "code",
   "execution_count": null,
   "id": "872a8b13",
   "metadata": {},
   "outputs": [],
   "source": []
  },
  {
   "cell_type": "code",
   "execution_count": null,
   "id": "fb7bbe53",
   "metadata": {},
   "outputs": [],
   "source": []
  }
 ],
 "metadata": {
  "kernelspec": {
   "display_name": "Python 3 (ipykernel)",
   "language": "python",
   "name": "python3"
  },
  "language_info": {
   "codemirror_mode": {
    "name": "ipython",
    "version": 3
   },
   "file_extension": ".py",
   "mimetype": "text/x-python",
   "name": "python",
   "nbconvert_exporter": "python",
   "pygments_lexer": "ipython3",
   "version": "3.9.7"
  }
 },
 "nbformat": 4,
 "nbformat_minor": 5
}
